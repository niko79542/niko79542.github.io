{
 "cells": [
  {
   "cell_type": "markdown",
   "metadata": {},
   "source": [
    "### Non-linear relationships with NNs"
   ]
  },
  {
   "cell_type": "markdown",
   "metadata": {},
   "source": [
    "Neural networks are simply multiple layers of logistic regressions.  They are useful in uncovering non-linear relationships.  They are useful in cases where one parameter alone may not contain predictive power, however the value of one variable, based on if another variable is present.  The conditional probability.  https://stats.stackexchange.com/a/41290.\n",
    "\n",
    "Let's take a practical example of two lightswitches and a light.  Where the output, or rather, the light being on depends on both switches.  \n",
    "\n",
    "\n",
    "\n"
   ]
  },
  {
   "cell_type": "markdown",
   "metadata": {},
   "source": [
    "Notice figure 1.0 below.  We will denote the position of lightswitch 1 as $X_{1}$, the position of lighswitch 2 as $X_{2}$, and then whether or not the light is on by the output classifier, $Y$.\n",
    "\n",
    "The light on if only 1 of the lights is switched on.  If they are both on, the effect is negated and the light turns off.  \n"
   ]
  },
  {
   "cell_type": "markdown",
   "metadata": {},
   "source": [
    "##### Figure 1.0: Lightswitch example\n",
    "\n",
    "$X_{1}$ | $X_{2}$ | $Y$\n",
    ":--- | --- | ---\n",
    "0   | 0   | 0\n",
    "1   | 0   | 1\n",
    "0   | 1   | 1\n",
    "1   | 1   | 0\n"
   ]
  },
  {
   "cell_type": "markdown",
   "metadata": {},
   "source": [
    "So what's the problem?  Why can't we describe this relationship using a logistic regression.  Well the issue is that these variables are not linearly correlated.  More specifically, the value of one variable doesn't give us any information about the output.  They are dependent on eachother.  Plotting $X_{1}$ against $X_{2}$ on a plane, will visually show us why this is the case.  Notice Plot 1.0 below.\n",
    "\n",
    "It would be impossible to draw a linear decision boundary that correctly seperates the negative outputs from the positives.  As an example, I have drawn $X_{2} = X_{1} * 0.6 + 0.2$ But any way we slice the plane, we are isolating 1 correct and 1 incorrect training example.  This is the first hint that we need either a more complicated decision boundary, or a more powerful method.   Namely, Neural Networks!"
   ]
  },
  {
   "cell_type": "code",
   "execution_count": 17,
   "metadata": {},
   "outputs": [
    {
     "data": {
      "text/plain": [
       "Text(0,1.2,'Plot 1.0: X_1 against X_2')"
      ]
     },
     "execution_count": 17,
     "metadata": {},
     "output_type": "execute_result"
    },
    {
     "data": {
      "image/png": "[encoded data removed]",
      "text/plain": [
       "<matplotlib.figure.Figure at 0x7fed4e2af940>"
      ]
     },
     "metadata": {},
     "output_type": "display_data"
    }
   ],
   "source": [
    "import numpy as np\n",
    "import matplotlib.pyplot as plt\n",
    "\n",
    "plt.plot([0, 1], [1, 0], 'go')\n",
    "plt.plot([0, 1], [0, 1], 'rx')\n",
    "decision_boundary_xis = np.arange(0, 1, 0.01)\n",
    "plt.plot(decision_boundary_xis, decision_boundary_xis * .6 + 0.2, '.')\n",
    "\n",
    "\n",
    "plt.xlabel('Lightswitch 1')\n",
    "plt.ylabel('Lightswitch 2')\n",
    "plt.text(0,1.2, 'Plot 1.0: X_1 against X_2', fontsize=20)"
   ]
  },
  {
   "cell_type": "markdown",
   "metadata": {},
   "source": [
    "With neural networks, we add layers of abstraction.  Layers of more logistic regressions, to apply more complicated relationships to the data.\n",
    "\n"
   ]
  },
  {
   "cell_type": "code",
   "execution_count": 18,
   "metadata": {},
   "outputs": [],
   "source": [
    "import tensorflow as tf\n",
    "import numpy as np"
   ]
  },
  {
   "cell_type": "code",
   "execution_count": 34,
   "metadata": {},
   "outputs": [
    {
     "data": {
      "image/svg+xml": [
       "<?xml version=\"1.0\" encoding=\"UTF-8\" standalone=\"no\"?>\n",
       "<!DOCTYPE svg PUBLIC \"-//W3C//DTD SVG 1.1//EN\"\n",
       " \"http://www.w3.org/Graphics/SVG/1.1/DTD/svg11.dtd\">\n",
       "<!-- Generated by graphviz version 2.40.1 (20161225.0304)\n",
       " -->\n",
       "<!-- Title: %3 Pages: 1 -->\n",
       "<svg width=\"699pt\" height=\"179pt\"\n",
       " viewBox=\"0.00 0.00 698.57 179.00\" xmlns=\"http://www.w3.org/2000/svg\" xmlns:xlink=\"http://www.w3.org/1999/xlink\">\n",
       "<g id=\"graph0\" class=\"graph\" transform=\"scale(1 1) rotate(0) translate(4 175)\">\n",
       "<title>%3</title>\n",
       "<polygon fill=\"#ffffff\" stroke=\"transparent\" points=\"-4,4 -4,-175 694.5675,-175 694.5675,4 -4,4\"/>\n",
       "<!-- X -->\n",
       "<g id=\"node1\" class=\"node\">\n",
       "<title>X</title>\n",
       "<ellipse fill=\"none\" stroke=\"#000000\" cx=\"27\" cy=\"-153\" rx=\"27\" ry=\"18\"/>\n",
       "<text text-anchor=\"middle\" x=\"27\" y=\"-149.3\" font-family=\"Times,serif\" font-size=\"14.00\" fill=\"#000000\">X</text>\n",
       "</g>\n",
       "<!-- MatMul -->\n",
       "<g id=\"node4\" class=\"node\">\n",
       "<title>MatMul</title>\n",
       "<ellipse fill=\"none\" stroke=\"#000000\" cx=\"130.2964\" cy=\"-126\" rx=\"40.0939\" ry=\"18\"/>\n",
       "<text text-anchor=\"middle\" x=\"130.2964\" y=\"-122.3\" font-family=\"Times,serif\" font-size=\"14.00\" fill=\"#000000\">MatMul</text>\n",
       "</g>\n",
       "<!-- X&#45;&gt;MatMul -->\n",
       "<g id=\"edge1\" class=\"edge\">\n",
       "<title>X&#45;&gt;MatMul</title>\n",
       "<path fill=\"none\" stroke=\"#000000\" d=\"M52.2691,-146.3951C62.2475,-143.7869 74.0214,-140.7094 85.3569,-137.7465\"/>\n",
       "<polygon fill=\"#000000\" stroke=\"#000000\" points=\"86.3595,-141.1021 95.1493,-135.1869 84.5892,-134.3296 86.3595,-141.1021\"/>\n",
       "</g>\n",
       "<!-- W1 -->\n",
       "<g id=\"node2\" class=\"node\">\n",
       "<title>W1</title>\n",
       "<ellipse fill=\"none\" stroke=\"#000000\" cx=\"27\" cy=\"-99\" rx=\"27\" ry=\"18\"/>\n",
       "<text text-anchor=\"middle\" x=\"27\" y=\"-95.3\" font-family=\"Times,serif\" font-size=\"14.00\" fill=\"#000000\">W1</text>\n",
       "</g>\n",
       "<!-- W1&#45;&gt;MatMul -->\n",
       "<g id=\"edge2\" class=\"edge\">\n",
       "<title>W1&#45;&gt;MatMul</title>\n",
       "<path fill=\"none\" stroke=\"#000000\" d=\"M52.2691,-105.6049C62.2475,-108.2131 74.0214,-111.2906 85.3569,-114.2535\"/>\n",
       "<polygon fill=\"#000000\" stroke=\"#000000\" points=\"84.5892,-117.6704 95.1493,-116.8131 86.3595,-110.8979 84.5892,-117.6704\"/>\n",
       "</g>\n",
       "<!-- b1 -->\n",
       "<g id=\"node3\" class=\"node\">\n",
       "<title>b1</title>\n",
       "<ellipse fill=\"none\" stroke=\"#000000\" cx=\"130.2964\" cy=\"-72\" rx=\"27\" ry=\"18\"/>\n",
       "<text text-anchor=\"middle\" x=\"130.2964\" y=\"-68.3\" font-family=\"Times,serif\" font-size=\"14.00\" fill=\"#000000\">b1</text>\n",
       "</g>\n",
       "<!-- add -->\n",
       "<g id=\"node5\" class=\"node\">\n",
       "<title>add</title>\n",
       "<ellipse fill=\"none\" stroke=\"#000000\" cx=\"233.5928\" cy=\"-99\" rx=\"27\" ry=\"18\"/>\n",
       "<text text-anchor=\"middle\" x=\"233.5928\" y=\"-95.3\" font-family=\"Times,serif\" font-size=\"14.00\" fill=\"#000000\">add</text>\n",
       "</g>\n",
       "<!-- b1&#45;&gt;add -->\n",
       "<g id=\"edge4\" class=\"edge\">\n",
       "<title>b1&#45;&gt;add</title>\n",
       "<path fill=\"none\" stroke=\"#000000\" d=\"M155.5656,-78.6049C168.4463,-81.9718 184.3192,-86.1207 198.3785,-89.7955\"/>\n",
       "<polygon fill=\"#000000\" stroke=\"#000000\" points=\"197.6665,-93.227 208.2266,-92.3697 199.4367,-86.4545 197.6665,-93.227\"/>\n",
       "</g>\n",
       "<!-- MatMul&#45;&gt;add -->\n",
       "<g id=\"edge3\" class=\"edge\">\n",
       "<title>MatMul&#45;&gt;add</title>\n",
       "<path fill=\"none\" stroke=\"#000000\" d=\"M165.2679,-116.859C176.0016,-114.0534 187.8119,-110.9664 198.5504,-108.1595\"/>\n",
       "<polygon fill=\"#000000\" stroke=\"#000000\" points=\"199.6577,-111.4878 208.4475,-105.5726 197.8874,-104.7153 199.6577,-111.4878\"/>\n",
       "</g>\n",
       "<!-- ha_1 -->\n",
       "<g id=\"node6\" class=\"node\">\n",
       "<title>ha_1</title>\n",
       "<ellipse fill=\"none\" stroke=\"#000000\" cx=\"324.5404\" cy=\"-99\" rx=\"27.8951\" ry=\"18\"/>\n",
       "<text text-anchor=\"middle\" x=\"324.5404\" y=\"-95.3\" font-family=\"Times,serif\" font-size=\"14.00\" fill=\"#000000\">ha_1</text>\n",
       "</g>\n",
       "<!-- add&#45;&gt;ha_1 -->\n",
       "<g id=\"edge5\" class=\"edge\">\n",
       "<title>add&#45;&gt;ha_1</title>\n",
       "<path fill=\"none\" stroke=\"#000000\" d=\"M260.8801,-99C268.8405,-99 277.6911,-99 286.2,-99\"/>\n",
       "<polygon fill=\"#000000\" stroke=\"#000000\" points=\"286.3267,-102.5001 296.3267,-99 286.3266,-95.5001 286.3267,-102.5001\"/>\n",
       "</g>\n",
       "<!-- MatMul_1 -->\n",
       "<g id=\"node9\" class=\"node\">\n",
       "<title>MatMul_1</title>\n",
       "<ellipse fill=\"none\" stroke=\"#000000\" cx=\"437.8835\" cy=\"-72\" rx=\"49.2915\" ry=\"18\"/>\n",
       "<text text-anchor=\"middle\" x=\"437.8835\" y=\"-68.3\" font-family=\"Times,serif\" font-size=\"14.00\" fill=\"#000000\">MatMul_1</text>\n",
       "</g>\n",
       "<!-- ha_1&#45;&gt;MatMul_1 -->\n",
       "<g id=\"edge6\" class=\"edge\">\n",
       "<title>ha_1&#45;&gt;MatMul_1</title>\n",
       "<path fill=\"none\" stroke=\"#000000\" d=\"M350.8285,-92.7378C361.4584,-90.2056 374.1131,-87.191 386.4356,-84.2556\"/>\n",
       "<polygon fill=\"#000000\" stroke=\"#000000\" points=\"387.285,-87.6513 396.2018,-81.9292 385.6629,-80.8419 387.285,-87.6513\"/>\n",
       "</g>\n",
       "<!-- W2 -->\n",
       "<g id=\"node7\" class=\"node\">\n",
       "<title>W2</title>\n",
       "<ellipse fill=\"none\" stroke=\"#000000\" cx=\"324.5404\" cy=\"-45\" rx=\"27\" ry=\"18\"/>\n",
       "<text text-anchor=\"middle\" x=\"324.5404\" y=\"-41.3\" font-family=\"Times,serif\" font-size=\"14.00\" fill=\"#000000\">W2</text>\n",
       "</g>\n",
       "<!-- W2&#45;&gt;MatMul_1 -->\n",
       "<g id=\"edge7\" class=\"edge\">\n",
       "<title>W2&#45;&gt;MatMul_1</title>\n",
       "<path fill=\"none\" stroke=\"#000000\" d=\"M349.9768,-51.0593C360.7919,-53.6357 373.8142,-56.7378 386.4822,-59.7555\"/>\n",
       "<polygon fill=\"#000000\" stroke=\"#000000\" points=\"385.9779,-63.2332 396.5168,-62.1458 387.6001,-56.4237 385.9779,-63.2332\"/>\n",
       "</g>\n",
       "<!-- b2 -->\n",
       "<g id=\"node8\" class=\"node\">\n",
       "<title>b2</title>\n",
       "<ellipse fill=\"none\" stroke=\"#000000\" cx=\"437.8835\" cy=\"-18\" rx=\"27\" ry=\"18\"/>\n",
       "<text text-anchor=\"middle\" x=\"437.8835\" y=\"-14.3\" font-family=\"Times,serif\" font-size=\"14.00\" fill=\"#000000\">b2</text>\n",
       "</g>\n",
       "<!-- add_1 -->\n",
       "<g id=\"node10\" class=\"node\">\n",
       "<title>add_1</title>\n",
       "<ellipse fill=\"none\" stroke=\"#000000\" cx=\"555.7762\" cy=\"-45\" rx=\"32.4942\" ry=\"18\"/>\n",
       "<text text-anchor=\"middle\" x=\"555.7762\" y=\"-41.3\" font-family=\"Times,serif\" font-size=\"14.00\" fill=\"#000000\">add_1</text>\n",
       "</g>\n",
       "<!-- b2&#45;&gt;add_1 -->\n",
       "<g id=\"edge9\" class=\"edge\">\n",
       "<title>b2&#45;&gt;add_1</title>\n",
       "<path fill=\"none\" stroke=\"#000000\" d=\"M463.4645,-23.8586C478.7493,-27.3592 498.497,-31.8818 515.8026,-35.8452\"/>\n",
       "<polygon fill=\"#000000\" stroke=\"#000000\" points=\"515.1284,-39.2813 525.6574,-38.1021 516.6912,-32.458 515.1284,-39.2813\"/>\n",
       "</g>\n",
       "<!-- MatMul_1&#45;&gt;add_1 -->\n",
       "<g id=\"edge8\" class=\"edge\">\n",
       "<title>MatMul_1&#45;&gt;add_1</title>\n",
       "<path fill=\"none\" stroke=\"#000000\" d=\"M479.78,-62.4048C491.451,-59.7319 504.0976,-56.8355 515.6634,-54.1867\"/>\n",
       "<polygon fill=\"#000000\" stroke=\"#000000\" points=\"516.531,-57.5787 525.4973,-51.9345 514.9683,-50.7554 516.531,-57.5787\"/>\n",
       "</g>\n",
       "<!-- output -->\n",
       "<g id=\"node11\" class=\"node\">\n",
       "<title>output</title>\n",
       "<ellipse fill=\"none\" stroke=\"#000000\" cx=\"657.4204\" cy=\"-45\" rx=\"33.2948\" ry=\"18\"/>\n",
       "<text text-anchor=\"middle\" x=\"657.4204\" y=\"-41.3\" font-family=\"Times,serif\" font-size=\"14.00\" fill=\"#000000\">output</text>\n",
       "</g>\n",
       "<!-- add_1&#45;&gt;output -->\n",
       "<g id=\"edge10\" class=\"edge\">\n",
       "<title>add_1&#45;&gt;output</title>\n",
       "<path fill=\"none\" stroke=\"#000000\" d=\"M588.4966,-45C596.5834,-45 605.3735,-45 613.8852,-45\"/>\n",
       "<polygon fill=\"#000000\" stroke=\"#000000\" points=\"614.0636,-48.5001 624.0635,-45 614.0635,-41.5001 614.0636,-48.5001\"/>\n",
       "</g>\n",
       "</g>\n",
       "</svg>\n"
      ],
      "text/plain": [
       "<graphviz.dot.Digraph at 0x7fed4e1eb9e8>"
      ]
     },
     "execution_count": 34,
     "metadata": {},
     "output_type": "execute_result"
    }
   ],
   "source": [
    "from graphviz import Digraph\n",
    "\n",
    "def tf_to_dot(graph):\n",
    "    dot = Digraph()\n",
    "    dot.graph_attr['rankdir'] = 'LR' # graph goes from left to right.\n",
    "\n",
    "    for n in g.as_graph_def().node:\n",
    "        dot.node(n.name, label=n.name)\n",
    "\n",
    "        for i in n.input:\n",
    "            dot.edge(i, n.name)\n",
    "            \n",
    "    return dot\n",
    "\n",
    "g = tf.Graph()\n",
    "\n",
    "with g.as_default():\n",
    "    \n",
    "    X = tf.placeholder(tf.float32, name=\"X\")\n",
    "    \n",
    "    W1 = tf.placeholder(tf.float32, name=\"W1\")\n",
    "    b1 = tf.placeholder(tf.float32, name=\"b1\")\n",
    "\n",
    "    a1 = tf.nn.sigmoid(tf.matmul(X, W1) + b1, name=\"ha_1\") # first hidden activations.\n",
    "\n",
    "    W2 = tf.placeholder(tf.float32, name=\"W2\")\n",
    "    b2 = tf.placeholder(tf.float32, name=\"b2\")\n",
    "    y_hat = tf.nn.sigmoid(tf.matmul(a1, W2) + b2, name=\"output\")\n",
    "           \n",
    "tf_to_dot(g)"
   ]
  },
  {
   "cell_type": "markdown",
   "metadata": {},
   "source": [
    "In the above tensorflow graph, I have drawn out the classifier portion.  An input X feeds through a first layer of logistic regressions.  After passing outputs through the sigmoid squasher function, the aforenamed hidden activations are passed through a second layer of logistic regressions to give us output of the prediction of if the light is on.  "
   ]
  },
  {
   "cell_type": "code",
   "execution_count": 20,
   "metadata": {},
   "outputs": [],
   "source": [
    "def sigmoid(z):\n",
    "    return 1 / (1 + np.exp(-z))"
   ]
  },
  {
   "cell_type": "code",
   "execution_count": 29,
   "metadata": {},
   "outputs": [
    {
     "name": "stderr",
     "output_type": "stream",
     "text": [
      "/home/niko/anaconda3/envs/ned/lib/python3.6/site-packages/ipykernel_launcher.py:2: RuntimeWarning: overflow encountered in exp\n",
      "  \n"
     ]
    },
    {
     "data": {
      "text/plain": [
       "array([0., 1., 1., 0.])"
      ]
     },
     "execution_count": 29,
     "metadata": {},
     "output_type": "execute_result"
    }
   ],
   "source": [
    "\n",
    "# our inputs.\n",
    "X = np.array([\n",
    "    [0, 0],\n",
    "    [0, 1],\n",
    "    [1, 0],\n",
    "    [1, 1],\n",
    "])\n",
    "\n",
    "Y = np.array([\n",
    "    0, 1, 1, 0\n",
    "])\n",
    "\n",
    "w1 = np.array([\n",
    "    [1000, -1000],\n",
    "    [-1000, 1000],\n",
    "])\n",
    "b1 = -500\n",
    "# calculate the hidden activations for layer 1.  \n",
    "\n",
    "theta_x = X.dot(w1)\n",
    "z_1 = theta_x + b1\n",
    "ha_1 = sigmoid(z_1)\n",
    "\n",
    "# Begin Layer 2\n",
    "\n",
    "w2 = np.array([1000, 1000])\n",
    "b2 = -500\n",
    "\n",
    "z_2 = ha_1.dot(w2) + b2\n",
    "z_2\n",
    "output = sigmoid(z_2)\n",
    "\n",
    "np.around(output) # output predictions."
   ]
  },
  {
   "cell_type": "markdown",
   "metadata": {},
   "source": [
    "Notice we are getting the same values as our Y, training array above."
   ]
  }
 ],
 "metadata": {
  "kernelspec": {
   "display_name": "Python 3",
   "language": "python",
   "name": "python3"
  },
  "language_info": {
   "codemirror_mode": {
    "name": "ipython",
    "version": 3
   },
   "file_extension": ".py",
   "mimetype": "text/x-python",
   "name": "python",
   "nbconvert_exporter": "python",
   "pygments_lexer": "ipython3",
   "version": "3.6.3"
  }
 },
 "nbformat": 4,
 "nbformat_minor": 2
}

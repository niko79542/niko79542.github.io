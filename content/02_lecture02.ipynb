{
 "cells": [
  {
   "cell_type": "markdown",
   "metadata": {},
   "source": [
    "**(Run this cell to define useful Latex macros)**\n",
    "\\\\[\n",
    "\\newcommand{\\card}[1]{\\left\\lvert#1\\right\\rvert}\n",
    "\\newcommand{\\condbar}[0]{\\,\\big|\\,}\n",
    "\\newcommand{\\eprob}[1]{\\widehat{\\text{Pr}}\\left[#1\\right]}\n",
    "\\newcommand{\\fpartial}[2]{\\frac{\\partial #1}{\\partial #2}}\n",
    "\\newcommand{\\ffpartial}[2]{\\frac{\\partial^2 #1}{\\partial {#2}^2}}\n",
    "\\newcommand{\\gradient}[0]{\\nabla}\n",
    "\\newcommand{\\norm}[1]{\\left\\lvert\\left\\lvert#1\\right\\rvert\\right\\rvert}\n",
    "\\newcommand{\\prob}[1]{\\text{Pr}\\left[#1\\right]}\n",
    "\\newcommand{\\pprob}[2]{\\text{Pr}_{#1}\\left[#2\\right]}\n",
    "\\newcommand{\\set}[1]{\\left\\{#1\\right\\}}\n",
    "\\newcommand{\\trans}[1]{#1^\\mathsf{T}}\n",
    "\\\\]"
   ]
  },
  {
   "cell_type": "markdown",
   "metadata": {},
   "source": [
    "## Lecture 02: Neural Networks\n",
    "\n",
    "Logistic regression is a form of *linear classification* model. A linear classifier has a linear *decision boundary*. It is probably easiest to explain with an example:\n",
    "\n",
    "\\\\[\n",
    "z(x) = 3 + 5x_1 - 4x_2\n",
    "\\\\\n",
    "f(x) = \\sigma(z(x))\n",
    "\\\\]\n",
    "\n",
    "The way the sigmoid function works is $\\sigma(z) = \\frac{e^z}{1 + e^z}$. Notice that this is 0.5 when $z = 0$, and it is $\\sigma(z) < 0.5$ when $z < 0$, and $\\sigma(z) > 0.5$ when $z > 0$. Therefore, this function classifies $(x_1, x_2)$ as a positive example when $3 + 5x_1 - 4x_2 > 0$. When this is $< 0$, we classify $(x_1, x_2)$ as negative. What is the *boundary* between these two spaces? What are the points where we think it is equally likely that $(x_1, x_2)$ is a positive or negative example.\n",
    "\n",
    "\\\\[\n",
    "\\begin{align}\n",
    "3 + 5x_1 - 4x_2 &= 0\n",
    "\\\\\n",
    "x_2 = \\frac{5}{4}x_1 + \\frac{3}{4}\n",
    "\\end{align}\n",
    "\\\\]\n",
    "\n",
    "Let's graph this line to check it out:\n"
   ]
  },
  {
   "cell_type": "code",
   "execution_count": 1,
   "metadata": {},
   "outputs": [
    {
     "data": {
      "text/plain": [
       "<matplotlib.collections.PathCollection at 0x112188eb8>"
      ]
     },
     "execution_count": 1,
     "metadata": {},
     "output_type": "execute_result"
    },
    {
     "data": {
      "image/png": "[encoded data removed]",
      "text/plain": [
       "<matplotlib.figure.Figure at 0x111975c18>"
      ]
     },
     "metadata": {},
     "output_type": "display_data"
    }
   ],
   "source": [
    "%matplotlib inline\n",
    "\n",
    "import numpy as np\n",
    "import matplotlib.pyplot as plt\n",
    "\n",
    "x_values = np.arange(0, 10, 0.1)\n",
    "y_values = (5/4) * x_values + 3/4\n",
    "plt.plot(x_values, y_values, '-')\n",
    "\n",
    "random_x1s = np.random.uniform(size = 60) * 10\n",
    "random_x2s = np.random.uniform(size = 60) * 14\n",
    "classified_positive = ((5/4) * random_x1s + 3/4) > random_x2s\n",
    "classified_negative = np.logical_not(classified_positive)\n",
    "\n",
    "plt.scatter(random_x1s[classified_positive], random_x2s[classified_positive], marker = '$+$', color = 'green')\n",
    "plt.scatter(random_x1s[classified_negative], random_x2s[classified_negative], marker = '$-$', color = 'red')\n"
   ]
  },
  {
   "cell_type": "markdown",
   "metadata": {},
   "source": [
    "Not every classification problem can be modeled well with a linear decision boundary:"
   ]
  },
  {
   "cell_type": "code",
   "execution_count": 2,
   "metadata": {},
   "outputs": [
    {
     "data": {
      "text/plain": [
       "<matplotlib.collections.PathCollection at 0x112246b38>"
      ]
     },
     "execution_count": 2,
     "metadata": {},
     "output_type": "execute_result"
    },
    {
     "data": {
      "image/png": "[encoded data removed]",
      "text/plain": [
       "<matplotlib.figure.Figure at 0x112213c18>"
      ]
     },
     "metadata": {},
     "output_type": "display_data"
    }
   ],
   "source": [
    "x1s = []\n",
    "x2s = []\n",
    "for x1 in np.arange(-1, 1, 0.1):\n",
    "    for x2 in np.arange(-1, 1, 0.1):\n",
    "        x1s.append(x1)\n",
    "        x2s.append(x2)\n",
    "x1s = np.array(x1s)\n",
    "x2s = np.array(x2s)\n",
    "\n",
    "is_positive = x1s * x2s > 0\n",
    "is_negative = np.logical_not(is_positive)\n",
    "\n",
    "plt.scatter(\n",
    "    x1s[is_positive],\n",
    "    x2s[is_positive],\n",
    "    marker = '$+$',\n",
    "    color = 'green',\n",
    "    s = 60\n",
    ")\n",
    "plt.scatter(\n",
    "    x1s[is_negative],\n",
    "    x2s[is_negative],\n",
    "    marker = '$-$',\n",
    "    color = 'red',\n",
    "    s = 60\n",
    ")\n"
   ]
  },
  {
   "cell_type": "markdown",
   "metadata": {},
   "source": [
    "Any linear model will suffer a ~50% misclassification rate on this dataset. What kind of dataset looks like this?\n",
    "\n",
    "Let's say I have two lightswitches for the lights in my room. I want to predict whether the lights are on based on the position of the switch.\n",
    "\n",
    "If both switches are down, the lights are off. If one is up and the other is down, then the lights are on. If they are both flipped up, then the effect cancels and the lights are off again.\n",
    "\n",
    "If I was trying to predict whether the lights are on from position of the switches, no linear classifier could do this effectively.\n",
    "\n",
    "Why? The reason is that the *effect* of \"switch 2 is in the up position\" changes based on whether \"switch 1 is in the down position\" versus \"in the up position.\"\n",
    "\n",
    "Linear models always assume constant effect. In our example $f(x) = \\sigma(3 + 5x_1 - 4x_2)$, the impact of $x_1$ is always the same: add 5 to the $z$ value.\n"
   ]
  },
  {
   "cell_type": "markdown",
   "metadata": {},
   "source": [
    "Let me show you another model that would solve the XOR problem. We'll use a series of logistic regressions.\n",
    "\n",
    "\\\\[\n",
    "\\begin{align}\n",
    "h_{1, 1} = f_{1, 1}(x_1, x_2) &= \\sigma(1000 x_1)\n",
    "\\\\\n",
    "h_{1, 2} = f_{1, 2}(x_1, x_2) &= \\sigma(1000 x_2)\n",
    "\\end{align}\n",
    "\\\\]\n",
    "\n",
    "This first pair of functions basically answers: is $x_1 > 0$, is $x_2 > 0$? If $x_1 > 0$, then $f_{1, 1}(x_1, x_2)$ will tend to be very close to one, because $f_{1, 1}$ is very sensitive to $x_1$. I would say we are \"soft binarizing\" the input, because we are pushing the inputs to zero or to one.\n",
    "\n",
    "I use the symbols $h_{1, 1}, h_{1, 2}$ to denote the outputs of these functions. I call these the *hidden* values.\n",
    "\n",
    "Next, let's feed in the hidden values to a next *layer*:\n",
    "\n",
    "\\\\[\n",
    "\\begin{align}\n",
    "h_{2, 1} = f_{2, 1}(h_{1, 1}, h_{1, 2}) &= \\sigma\\left(\n",
    "    1000 \\left(\n",
    "        h_{1, 1} - h_{1, 2} - 0.5\n",
    "    \\right)\n",
    "\\right)\n",
    "\\\\\n",
    "h_{2, 2} = f_{2, 2}(h_{1, 1}, h_{1, 2}) &= \\sigma\\left(\n",
    "    1000 \\left(\n",
    "        -h_{1, 1} + h_{1, 2} - 0.5\n",
    "    \\right)\n",
    "\\right)\n",
    "\\end{align}\n",
    "\\\\]\n",
    "\n",
    "If $h_1$ is close to zero, then $h_{2, 1}$ has no chance of being close to 1.0. But even if $h_1$ is close to one, we *still* need that $h_2$ is close to zero, else it will *cancel* out the effect of $h_1$. So $h_{2, 1}$ is close to one iff both $h_1$ is close to one AND $h_2$ is close to zero.\n",
    "\n",
    "The situation for $h_{2, 2}$ is flipped. It is close to one iff $h_{1, 1}$ is close to zero and $h_2$ is close to one.\n",
    "\n",
    "Finally, we may write:\n",
    "\n",
    "\\\\[\n",
    "\\begin{align}\n",
    "h_{3, 1} = f_{3, 1}(h_{2, 1}, h_{2, 2}) &= \\sigma\\left(\n",
    "    1000 \\left(\n",
    "        h_{1, 1} + h_{1, 2} - 0.5\n",
    "    \\right)\n",
    "\\right)\n",
    "\\end{align}\n",
    "\\\\]\n",
    "\n",
    "This outputs one if $h_{2, 1}$ is close to one or $h_{2, 2}$ is close to one.\n",
    "\n",
    "What we have built is a *network* of logistic regressions that emulates:\n",
    "\n",
    "\\\\[\n",
    "OR(AND(x_1, NOT(x_2)), AND(NOT(x_1, x_2)))\n",
    "\\\\]\n"
   ]
  },
  {
   "cell_type": "code",
   "execution_count": 3,
   "metadata": {},
   "outputs": [
    {
     "name": "stderr",
     "output_type": "stream",
     "text": [
      "/Users/ruggeri/.anaconda3/lib/python3.6/site-packages/ipykernel/__main__.py:2: RuntimeWarning: overflow encountered in exp\n",
      "  from ipykernel import kernelapp as app\n"
     ]
    },
    {
     "data": {
      "text/plain": [
       "<matplotlib.collections.PathCollection at 0x112789fd0>"
      ]
     },
     "execution_count": 3,
     "metadata": {},
     "output_type": "execute_result"
    },
    {
     "data": {
      "image/png": "[encoded data removed]",
      "text/plain": [
       "<matplotlib.figure.Figure at 0x10f95d7f0>"
      ]
     },
     "metadata": {},
     "output_type": "display_data"
    }
   ],
   "source": [
    "def sigma(x):\n",
    "    return 1 / (1 + np.exp(-x))\n",
    "\n",
    "M = 1e3\n",
    "def classify(x1, x2):\n",
    "    # Classify is x1 > 0, is x2 > 0?\n",
    "    h_1_1 = sigma(M * x1)\n",
    "    h_1_2 = sigma(M * x2)\n",
    "    \n",
    "    # Classify is x1 > 0 AND is x2 < 0?\n",
    "    h_2_1 = sigma(\n",
    "        M * (h_1_1 - h_1_2 - 0.5)\n",
    "    )\n",
    "    # Classify is x1 < 0 AND x2 > 0?\n",
    "    h_2_2 = sigma(\n",
    "        M * (-h_1_1 + h_1_2 - 0.5)\n",
    "    )\n",
    "\n",
    "    # Classify does x1 != x2\n",
    "    h_3_1 = sigma(\n",
    "        M * (h_2_1 + h_2_2 - 0.5)\n",
    "    )\n",
    "\n",
    "    return h_3_1 > 0.5\n",
    "\n",
    "x1s = []\n",
    "x2s = []\n",
    "for x1 in np.arange(-1, 1, 0.1):\n",
    "    for x2 in np.arange(-1, 1, 0.1):\n",
    "        x1s.append(x1)\n",
    "        x2s.append(x2)\n",
    "x1s = np.array(x1s)\n",
    "x2s = np.array(x2s)\n",
    "\n",
    "classified_positive = classify(x1s, x2s)\n",
    "classified_negative = np.logical_not(classified_positive)\n",
    "\n",
    "plt.scatter(\n",
    "    x1s[classified_positive],\n",
    "    x2s[classified_positive],\n",
    "    marker = '$+$',\n",
    "    color = 'green',\n",
    "    s = 60\n",
    ")\n",
    "plt.scatter(\n",
    "    x1s[classified_negative],\n",
    "    x2s[classified_negative],\n",
    "    marker = '$-$',\n",
    "    color = 'red',\n",
    "    s = 60\n",
    ")\n"
   ]
  },
  {
   "cell_type": "markdown",
   "metadata": {},
   "source": [
    "What we are seeing here is that we an learn a much more sophisticated, nonlinear decision boundary if we have *layers* of logistic regressions, and with more than one logistic regression being performed at each layer.\n",
    "\n",
    "This is exactly what a neural network is. It is just layers of logistic regressions.\n",
    "\n",
    "![](./images/02a_neural_net_diagram.jpg)"
   ]
  },
  {
   "cell_type": "markdown",
   "metadata": {},
   "source": [
    "In the above diagram, I have written constants like 1000 and 0.5 into the equations. I will now introduce some symbols to stand for those. Here are the first two layers of the network:\n",
    "\n",
    "![](./images/02b_neural_net_matrices.jpg)"
   ]
  },
  {
   "cell_type": "markdown",
   "metadata": {},
   "source": [
    "We call $W^{(1)}$ and $W^{(2)}$ *weight matrices*. We call $b^{(1)}$ and $b^{(2)}$ *bias vectors*.\n",
    "\n",
    "In this context, the function $\\sigma$ is sometimes called the *activation function*. We often use alternatives to $\\sigma$ as activation functions. We'll learn about the relu and tanh functions later on.\n",
    "\n",
    "The vectors $h^{(1)}, h^{(2)}$ are called hidden activations. Each value in a hidden activation vector can be thought of as a \"node\" or \"unit.\" The unit $h^{(2)}_i$ takes as input all the prior layer's activations $h^{(1)}$, weights them with $W^{(2)}_{i, :}$ (that is, the $i$th row of $W^{(2)}$), and then adds in the bias $b^{(2)}_i$.\n",
    "\n",
    "Calculating all the $h^{(i)}$ up to the end is called performing a *forward pass*.\n",
    "\n",
    "Neural networks are much more powerful than logistic regression. While logistic regression can only learn a linear decision boundary, neural networks can in theory learn almost any kind of decision boundary. If you're interested in some math you can look up the [universal approximation theorem](https://en.wikipedia.org/wiki/Universal_approximation_theorem).\n",
    "\n",
    "The only downside is that neural networks may need to have many, many hidden units to approximate a boundary. So you may need a very complex neural network to model a complicated decision boundary.\n",
    "\n",
    "The number of *layers* of hidden units is called the *depth* of the network. In theory, a network with a single hidden layer can represent any decision boundary, provided that the hidden layer has enough units. Adding additional layers in theory doesn't increase the *power* of neural networks: any boundary that can be learned by a network with three hidden layers can be learned by a network with only one.\n",
    "\n",
    "However, it may be much more *efficient* to use multiple hidden layers. For instance, a boundary that might be learnable with a single hidden layer of one million units could (potentially) be learned in three layers of one hundred units. More layers won't *always* help, but they often do. The fewer overall number of units your network uses, the faster it will be to train the network, and the less data which will be needed to train it.\n",
    "\n",
    "Each hidden layer of a network is like a *level of abstraction*. Abstractions help us efficiently organize our perceptions and experiences. When I look at a photo of a cat and recognize that a cat is in the photo, I do this through several levels of abstraction. First I see the pixels of the photo. But then I look for lines and curves in the photo. Then I see the shapes and regions bounded by those lines. Some of those shapes will look like parts of a cat: legs, tail, face. I may then even abstract further: this is a photo of my cat Markov!\n",
    "\n",
    "Each level of representation is more general and high-level. Each level is a new way of \"seeing\" the cat. At each level, we tend to use fewer words to describe the photo, but each word is \"denser in meaning.\" Saying \"the intensity of the green channel at pixel 123 is 0.7\" is much more specific and less meaningful than saying \"in the left corner of the photo there is a cat's leg.\"\n",
    "\n",
    "Hopefully this gives some intuition why it helps to add additional hidden layers to a neural network. In the next lecture we'll talk about some disadvantages.\n"
   ]
  },
  {
   "cell_type": "markdown",
   "metadata": {},
   "source": []
  }
 ],
 "metadata": {
  "kernelspec": {
   "display_name": "Python 3",
   "language": "python",
   "name": "python3"
  },
  "language_info": {
   "codemirror_mode": {
    "name": "ipython",
    "version": 3
   },
   "file_extension": ".py",
   "mimetype": "text/x-python",
   "name": "python",
   "nbconvert_exporter": "python",
   "pygments_lexer": "ipython3",
   "version": "3.6.3"
  }
 },
 "nbformat": 4,
 "nbformat_minor": 2
}

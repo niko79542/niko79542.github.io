{
 "cells": [
  {
   "cell_type": "markdown",
   "metadata": {
    "collapsed": true
   },
   "source": [
    "## Exploring Gun Deaths in United States\n",
    "## Gun Deaths in the US from 2012-2014\n",
    "#### Data is taken from Five-Thirty-Eight\n",
    "(https://github.com/fivethirtyeight/guns-data)\n",
    "\n",
    "Read Data Analysis projects.\n"
   ]
  },
  {
   "cell_type": "code",
   "execution_count": 1,
   "metadata": {
    "collapsed": false
   },
   "outputs": [],
   "source": [
    "import csv \n",
    "\n",
    "f = open(\"guns.csv\", \"r\")\n",
    "gun_data = csv.reader(f)\n",
    "gun_data = list(gun_data)"
   ]
  },
  {
   "cell_type": "markdown",
   "metadata": {},
   "source": [
    "### Check that we read in data"
   ]
  },
  {
   "cell_type": "code",
   "execution_count": 2,
   "metadata": {
    "collapsed": false,
    "scrolled": true
   },
   "outputs": [
    {
     "data": {
      "text/plain": [
       "[['',\n",
       "  'year',\n",
       "  'month',\n",
       "  'intent',\n",
       "  'police',\n",
       "  'sex',\n",
       "  'age',\n",
       "  'race',\n",
       "  'hispanic',\n",
       "  'place',\n",
       "  'education']]"
      ]
     },
     "execution_count": 2,
     "metadata": {},
     "output_type": "execute_result"
    }
   ],
   "source": [
    "gun_data[:1]"
   ]
  },
  {
   "cell_type": "code",
   "execution_count": 3,
   "metadata": {
    "collapsed": false
   },
   "outputs": [],
   "source": [
    "headers = gun_data.pop(0)\n"
   ]
  },
  {
   "cell_type": "code",
   "execution_count": 4,
   "metadata": {
    "collapsed": false
   },
   "outputs": [
    {
     "data": {
      "text/plain": [
       "Counter({'2012': 33563, '2013': 33636, '2014': 33599})"
      ]
     },
     "execution_count": 4,
     "metadata": {},
     "output_type": "execute_result"
    }
   ],
   "source": [
    "import collections\n",
    "\n",
    "year_col = 1\n",
    "year_counts = collections.Counter([death[year_col] for death in gun_data])\n",
    "year_counts"
   ]
  },
  {
   "cell_type": "markdown",
   "metadata": {},
   "source": [
    "### Very little change in number of gun deaths over 3 years. "
   ]
  },
  {
   "cell_type": "code",
   "execution_count": 5,
   "metadata": {
    "collapsed": false
   },
   "outputs": [
    {
     "data": {
      "text/plain": [
       "[datetime.datetime(2012, 1, 1, 0, 0),\n",
       " datetime.datetime(2012, 1, 1, 0, 0),\n",
       " datetime.datetime(2012, 1, 1, 0, 0),\n",
       " datetime.datetime(2012, 2, 1, 0, 0),\n",
       " datetime.datetime(2012, 2, 1, 0, 0)]"
      ]
     },
     "execution_count": 5,
     "metadata": {},
     "output_type": "execute_result"
    }
   ],
   "source": [
    "from datetime import datetime\n",
    "\n",
    "year_c = 1\n",
    "month_c = 2\n",
    "date = 1\n",
    "\n",
    "dates = [datetime(int(death[year_c]),\n",
    "                  int(death[month_c]),\n",
    "                  day=date) for death in gun_data]\n",
    "\n",
    "dates[:5]"
   ]
  },
  {
   "cell_type": "code",
   "execution_count": 6,
   "metadata": {
    "collapsed": false
   },
   "outputs": [
    {
     "data": {
      "text/plain": [
       "Counter({datetime.datetime(2012, 1, 1, 0, 0): 2758,\n",
       "         datetime.datetime(2012, 2, 1, 0, 0): 2357,\n",
       "         datetime.datetime(2012, 3, 1, 0, 0): 2743,\n",
       "         datetime.datetime(2012, 4, 1, 0, 0): 2795,\n",
       "         datetime.datetime(2012, 5, 1, 0, 0): 2999,\n",
       "         datetime.datetime(2012, 6, 1, 0, 0): 2826,\n",
       "         datetime.datetime(2012, 7, 1, 0, 0): 3026,\n",
       "         datetime.datetime(2012, 8, 1, 0, 0): 2954,\n",
       "         datetime.datetime(2012, 9, 1, 0, 0): 2852,\n",
       "         datetime.datetime(2012, 10, 1, 0, 0): 2733,\n",
       "         datetime.datetime(2012, 11, 1, 0, 0): 2729,\n",
       "         datetime.datetime(2012, 12, 1, 0, 0): 2791,\n",
       "         datetime.datetime(2013, 1, 1, 0, 0): 2864,\n",
       "         datetime.datetime(2013, 2, 1, 0, 0): 2375,\n",
       "         datetime.datetime(2013, 3, 1, 0, 0): 2862,\n",
       "         datetime.datetime(2013, 4, 1, 0, 0): 2798,\n",
       "         datetime.datetime(2013, 5, 1, 0, 0): 2806,\n",
       "         datetime.datetime(2013, 6, 1, 0, 0): 2920,\n",
       "         datetime.datetime(2013, 7, 1, 0, 0): 3079,\n",
       "         datetime.datetime(2013, 8, 1, 0, 0): 2859,\n",
       "         datetime.datetime(2013, 9, 1, 0, 0): 2742,\n",
       "         datetime.datetime(2013, 10, 1, 0, 0): 2808,\n",
       "         datetime.datetime(2013, 11, 1, 0, 0): 2758,\n",
       "         datetime.datetime(2013, 12, 1, 0, 0): 2765,\n",
       "         datetime.datetime(2014, 1, 1, 0, 0): 2651,\n",
       "         datetime.datetime(2014, 2, 1, 0, 0): 2361,\n",
       "         datetime.datetime(2014, 3, 1, 0, 0): 2684,\n",
       "         datetime.datetime(2014, 4, 1, 0, 0): 2862,\n",
       "         datetime.datetime(2014, 5, 1, 0, 0): 2864,\n",
       "         datetime.datetime(2014, 6, 1, 0, 0): 2931,\n",
       "         datetime.datetime(2014, 7, 1, 0, 0): 2884,\n",
       "         datetime.datetime(2014, 8, 1, 0, 0): 2970,\n",
       "         datetime.datetime(2014, 9, 1, 0, 0): 2914,\n",
       "         datetime.datetime(2014, 10, 1, 0, 0): 2865,\n",
       "         datetime.datetime(2014, 11, 1, 0, 0): 2756,\n",
       "         datetime.datetime(2014, 12, 1, 0, 0): 2857})"
      ]
     },
     "execution_count": 6,
     "metadata": {},
     "output_type": "execute_result"
    }
   ],
   "source": [
    "date_counts = collections.Counter([date for date in dates])\n",
    "\n",
    "date_counts"
   ]
  },
  {
   "cell_type": "markdown",
   "metadata": {},
   "source": [
    "### Visualize the data.  I can't understand this."
   ]
  },
  {
   "cell_type": "code",
   "execution_count": 7,
   "metadata": {
    "collapsed": false
   },
   "outputs": [
    {
     "data": {
      "text/plain": [
       "Counter({'F': 14449, 'M': 86349})"
      ]
     },
     "execution_count": 7,
     "metadata": {},
     "output_type": "execute_result"
    }
   ],
   "source": [
    "sex_col = 5\n",
    "\n",
    "sex_counts = collections.Counter([death[sex_col] for death in gun_data])\n",
    "\n",
    "sex_counts"
   ]
  },
  {
   "cell_type": "code",
   "execution_count": 8,
   "metadata": {
    "collapsed": false
   },
   "outputs": [
    {
     "data": {
      "text/plain": [
       "Counter({'Asian/Pacific Islander': 1326,\n",
       "         'Black': 23296,\n",
       "         'Hispanic': 9022,\n",
       "         'Native American/Native Alaskan': 917,\n",
       "         'White': 66237})"
      ]
     },
     "execution_count": 8,
     "metadata": {},
     "output_type": "execute_result"
    }
   ],
   "source": [
    "race_col = 7\n",
    "\n",
    "race_deaths = collections.Counter([death[race_col] for death in gun_data])\n",
    "\n",
    "race_deaths"
   ]
  },
  {
   "cell_type": "markdown",
   "metadata": {},
   "source": [
    "### Males were 6 times as likely to be a victim of a gun related death than Females from 2012-2014.\n",
    "###### How does this correspond with suicide rates?\n",
    "### Whites were 3 times as likely to be involved in a gun death than blacks.\n",
    "##### How does this correspond with the proportion of whites/blacks in the US?\n"
   ]
  },
  {
   "cell_type": "markdown",
   "metadata": {},
   "source": [
    "# Use 2010 US Census data to get a more accurate picture\n",
    "\n",
    "#### Read in our data (credit to www.census.gov)"
   ]
  },
  {
   "cell_type": "code",
   "execution_count": 9,
   "metadata": {
    "collapsed": false
   },
   "outputs": [],
   "source": [
    "import pandas as pd\n",
    "\n",
    "census_f = \"census.csv\"\n",
    "census = pd.read_csv(census_f)\n"
   ]
  },
  {
   "cell_type": "markdown",
   "metadata": {},
   "source": [
    "### Let's use census data to get rates of deaths per 100k people per race."
   ]
  },
  {
   "cell_type": "markdown",
   "metadata": {},
   "source": [
    "##### The surveys have different names for each race.  Let's map the races together."
   ]
  },
  {
   "cell_type": "code",
   "execution_count": 10,
   "metadata": {
    "collapsed": false,
    "scrolled": true
   },
   "outputs": [
    {
     "data": {
      "text/plain": [
       "{'Asian/Pacific Islander': ['Race Alone - Asian',\n",
       "  'Race Alone - Native Hawaiian and Other Pacific Islander'],\n",
       " 'Black': ['Race Alone - Black or African American'],\n",
       " 'Hispanic': ['Race Alone - Hispanic'],\n",
       " 'Native American/Native Alaskan': ['Race Alone - American Indian and Alaska Native'],\n",
       " 'White': ['Race Alone - White']}"
      ]
     },
     "execution_count": 10,
     "metadata": {},
     "output_type": "execute_result"
    }
   ],
   "source": [
    "#Map of `gun_data => census`\n",
    "\n",
    "race_map = {\n",
    "    \"Asian/Pacific Islander\": [\"Race Alone - Asian\",\n",
    "                               \"Race Alone - Native Hawaiian and Other Pacific Islander\"],\n",
    "    \"Black\": [\"Race Alone - Black or African American\"],\n",
    "    \"Hispanic\": [\"Race Alone - Hispanic\"],\n",
    "    \"Native American/Native Alaskan\": [\"Race Alone - American Indian and Alaska Native\"],\n",
    "    \"White\": [\"Race Alone - White\"]\n",
    "}\n",
    "race_map"
   ]
  },
  {
   "cell_type": "markdown",
   "metadata": {},
   "source": [
    "### Once we map the two datasets together.  We can calculate the deaths per 100k of population.  "
   ]
  },
  {
   "cell_type": "code",
   "execution_count": 11,
   "metadata": {
    "collapsed": false
   },
   "outputs": [
    {
     "data": {
      "text/plain": [
       "{'Asian/Pacific Islander': 8,\n",
       " 'Black': 57,\n",
       " 'Hispanic': 20,\n",
       " 'Native American/Native Alaskan': 24,\n",
       " 'White': 33}"
      ]
     },
     "execution_count": 11,
     "metadata": {},
     "output_type": "execute_result"
    }
   ],
   "source": [
    "def convert_deaths_to_per100k(race_deaths,census, race_map):\n",
    "    deaths_per_100k = {}\n",
    "    for race, death in race_deaths.items():\n",
    "        # Get the names of the race in the census that map to the gun data names\n",
    "        census_names = race_map[race]\n",
    "        census_pops = [census.iloc[0][name] for name in census_names]\n",
    "\n",
    "        #Total race population from the census data\n",
    "        race_population = sum(census_pops)\n",
    "\n",
    "\n",
    "        deaths_per_hundredk = (death * 100000) / race_population \n",
    "        deaths_per_hundredk = int(deaths_per_hundredk)\n",
    "        deaths_per_100k[race] = deaths_per_hundredk\n",
    "    return deaths_per_100k\n",
    "    \n",
    "race_per_hundredk = convert_deaths_to_per100k(race_deaths,\n",
    "                                              census,\n",
    "                                              race_map)\n",
    "race_per_hundredk\n",
    "    \n",
    "    "
   ]
  },
  {
   "cell_type": "markdown",
   "metadata": {},
   "source": [
    "### Deaths per 100k:\n",
    "##### Black deaths per 100k are nearly double the rate of White deaths \n",
    "##### Our data spans 2012 to 2014, and includes all deaths (i.e. Suicide, Homicide, Accidental, Undetermined, etc.)"
   ]
  },
  {
   "cell_type": "markdown",
   "metadata": {},
   "source": [
    "### Look at types of deaths in our gun data"
   ]
  },
  {
   "cell_type": "code",
   "execution_count": 12,
   "metadata": {
    "collapsed": false
   },
   "outputs": [
    {
     "data": {
      "text/plain": [
       "Counter({'Accidental': 1639,\n",
       "         'Homicide': 35176,\n",
       "         'NA': 1,\n",
       "         'Suicide': 63175,\n",
       "         'Undetermined': 807})"
      ]
     },
     "execution_count": 12,
     "metadata": {},
     "output_type": "execute_result"
    }
   ],
   "source": [
    "type_col = 3\n",
    "\n",
    "death_type = collections.Counter([death[type_col] for death in gun_data])\n",
    "death_type"
   ]
  },
  {
   "cell_type": "markdown",
   "metadata": {},
   "source": [
    "### Examine *homicide* gun deaths per 100k broken down by race"
   ]
  },
  {
   "cell_type": "markdown",
   "metadata": {},
   "source": [
    "##### First, redo our gun death counts"
   ]
  },
  {
   "cell_type": "code",
   "execution_count": 13,
   "metadata": {
    "collapsed": false
   },
   "outputs": [
    {
     "data": {
      "text/plain": [
       "Counter({'Asian/Pacific Islander': 559,\n",
       "         'Black': 19510,\n",
       "         'Hispanic': 5634,\n",
       "         'Native American/Native Alaskan': 326,\n",
       "         'White': 9147})"
      ]
     },
     "execution_count": 13,
     "metadata": {},
     "output_type": "execute_result"
    }
   ],
   "source": [
    "\n",
    "homicide_deaths = collections.Counter([death[race_col] for death in gun_data if death[type_col] == \"Homicide\"])\n",
    "homicide_deaths"
   ]
  },
  {
   "cell_type": "markdown",
   "metadata": {},
   "source": [
    "##### There were 19510 black deaths by homicide from 2012 to 2014 in the United States."
   ]
  },
  {
   "cell_type": "code",
   "execution_count": 14,
   "metadata": {
    "collapsed": false
   },
   "outputs": [
    {
     "data": {
      "text/plain": [
       "{'Asian/Pacific Islander': 3,\n",
       " 'Black': 48,\n",
       " 'Hispanic': 12,\n",
       " 'Native American/Native Alaskan': 8,\n",
       " 'White': 4}"
      ]
     },
     "execution_count": 14,
     "metadata": {},
     "output_type": "execute_result"
    }
   ],
   "source": [
    "race_homicide_per_hundredk = convert_deaths_to_per100k(homicide_deaths,\n",
    "                                                       census,\n",
    "                                                       race_map)\n",
    "race_homicide_per_hundredk"
   ]
  },
  {
   "cell_type": "markdown",
   "metadata": {},
   "source": [
    "##### There were 12 times as many Black deaths by gun [homicide] from 2012 to 2014 in the United States."
   ]
  }
 ],
 "metadata": {
  "anaconda-cloud": {},
  "kernelspec": {
   "display_name": "Python [default]",
   "language": "python",
   "name": "python3"
  },
  "language_info": {
   "codemirror_mode": {
    "name": "ipython",
    "version": 3
   },
   "file_extension": ".py",
   "mimetype": "text/x-python",
   "name": "python",
   "nbconvert_exporter": "python",
   "pygments_lexer": "ipython3",
   "version": "3.5.2"
  }
 },
 "nbformat": 4,
 "nbformat_minor": 0
}

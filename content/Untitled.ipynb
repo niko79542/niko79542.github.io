{
 "cells": [
  {
   "cell_type": "markdown",
   "metadata": {},
   "source": [
    "### Boston Linear Regression the Tensorflow Way.\n",
    "\n",
    "I am pushing myself to write out problems more in the Tensorflow way.  Recall back to the Multiple variable Linear Regression on Boston Home Price data.  Link here.  Let's do this one out using Tensorflow.  The code will end up more succinct, Syntax will be useful for future notebooks, and all in all will probably end up being a net win to do this out.\n",
    "\n"
   ]
  },
  {
   "cell_type": "markdown",
   "metadata": {},
   "source": [
    "Here are the steps we need to replicate.\n",
    "\n",
    "1) Downloading the Data.\n",
    "2) \n",
    "\n",
    "Looking up some popular tensorflow blogs?"
   ]
  }
 ],
 "metadata": {
  "kernelspec": {
   "display_name": "Python 3",
   "language": "python",
   "name": "python3"
  },
  "language_info": {
   "codemirror_mode": {
    "name": "ipython",
    "version": 3
   },
   "file_extension": ".py",
   "mimetype": "text/x-python",
   "name": "python",
   "nbconvert_exporter": "python",
   "pygments_lexer": "ipython3",
   "version": "3.6.3"
  }
 },
 "nbformat": 4,
 "nbformat_minor": 2
}

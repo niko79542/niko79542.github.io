{
 "cells": [
  {
   "cell_type": "markdown",
   "metadata": {},
   "source": [
    "Let's define some variables to use throughout the rest of the Notebook"
   ]
  },
  {
   "cell_type": "markdown",
   "metadata": {},
   "source": [
    "- $X$: one generic input feature\n",
    "\n",
    "- $X_{j}$: the generic jth feature of input X\n",
    "- $Y$: quantitative output\n",
    "- $G$: qualitative output\n",
    "- capital letter: generic variable\n",
    "- lowercase letter: observed values\n",
    "- $N$: Number of observations for X\n",
    "- $x_{i}$: ith observation of the set N, otherwise known as p_vector\n",
    "- **$X$**: N by p matrix"
   ]
  },
  {
   "cell_type": "code",
   "execution_count": null,
   "metadata": {},
   "outputs": [],
   "source": []
  }
 ],
 "metadata": {
  "kernelspec": {
   "display_name": "Python 3",
   "language": "python",
   "name": "python3"
  },
  "language_info": {
   "codemirror_mode": {
    "name": "ipython",
    "version": 3
   },
   "file_extension": ".py",
   "mimetype": "text/x-python",
   "name": "python",
   "nbconvert_exporter": "python",
   "pygments_lexer": "ipython3",
   "version": "3.6.3"
  }
 },
 "nbformat": 4,
 "nbformat_minor": 2
}

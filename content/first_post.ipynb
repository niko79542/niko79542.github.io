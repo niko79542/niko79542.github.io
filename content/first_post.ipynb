{
 "cells": [
  {
   "cell_type": "markdown",
   "metadata": {},
   "source": [
    "# Linear Regression with Gradient Descent for 1 variable"
   ]
  },
  {
   "cell_type": "code",
   "execution_count": 2,
   "metadata": {
    "collapsed": true
   },
   "outputs": [],
   "source": [
    "import pandas as pd\n",
    "import numpy as np"
   ]
  },
  {
   "cell_type": "code",
   "execution_count": 3,
   "metadata": {
    "collapsed": true
   },
   "outputs": [],
   "source": [
    "data = pd.read_csv(\"test_data.csv\",encoding=\"Latin-1\")"
   ]
  },
  {
   "cell_type": "code",
   "execution_count": 4,
   "metadata": {
    "collapsed": true
   },
   "outputs": [],
   "source": [
    "x_values = data.iloc[:,0]\n",
    "# x_values2 = data.iloc[:,1]\n",
    "y_values = data.iloc[:,1]"
   ]
  },
  {
   "cell_type": "code",
   "execution_count": 5,
   "metadata": {
    "scrolled": true
   },
   "outputs": [
    {
     "data": {
      "text/plain": [
       "(1.1930336441895937, -3.8957808783118533)"
      ]
     },
     "execution_count": 5,
     "metadata": {},
     "output_type": "execute_result"
    },
    {
     "data": {
      "image/png": "[encoded data removed]",
      "text/plain": [
       "<matplotlib.figure.Figure at 0x7efcb6483f98>"
      ]
     },
     "metadata": {},
     "output_type": "display_data"
    }
   ],
   "source": [
    "%matplotlib inline\n",
    "import matplotlib.pyplot as plt\n",
    "plt.plot(x_values, y_values, '.')\n",
    "m, b = np.polyfit(x_values, y_values, 1) # Use numpy built-in linear regression. \n",
    "                                         # Which happens to also use minimum least squares\n",
    "\n",
    "plt.plot(x_values, m*x_values + b, '-')\n",
    "plt.xlabel(\"Data from Andrew Ng's ML Coursera course, week 2\")\n",
    "m, b"
   ]
  },
  {
   "cell_type": "markdown",
   "metadata": {},
   "source": [
    "### Numpy.polyfit returns to us f(x) = 1.19x - 3.89\n",
    "\n",
    "Lets see how we do using gradient descent to find a regression line."
   ]
  },
  {
   "cell_type": "code",
   "execution_count": 9,
   "metadata": {},
   "outputs": [
    {
     "name": "stdout",
     "output_type": "stream",
     "text": [
      "E 0010 | a: 0.78 | b: -0.66 | stddev 3.39\n",
      "E 0020 | a: 0.94 | b: -1.54 | stddev 3.16\n",
      "E 0030 | a: 1.02 | b: -2.21 | stddev 3.08\n",
      "E 0040 | a: 1.07 | b: -2.69 | stddev 3.04\n",
      "E 0050 | a: 1.10 | b: -3.03 | stddev 3.01\n",
      "E 0060 | a: 1.13 | b: -3.28 | stddev 3.00\n",
      "E 0070 | a: 1.15 | b: -3.45 | stddev 3.00\n",
      "E 0080 | a: 1.16 | b: -3.58 | stddev 3.00\n",
      "E 0090 | a: 1.17 | b: -3.67 | stddev 2.99\n",
      "E 0100 | a: 1.18 | b: -3.73 | stddev 2.99\n",
      "E 0110 | a: 1.18 | b: -3.78 | stddev 2.99\n",
      "E 0120 | a: 1.18 | b: -3.81 | stddev 2.99\n",
      "E 0130 | a: 1.19 | b: -3.84 | stddev 2.99\n",
      "E 0140 | a: 1.19 | b: -3.85 | stddev 2.99\n",
      "E 0150 | a: 1.19 | b: -3.87 | stddev 2.99\n",
      "E 0160 | a: 1.19 | b: -3.87 | stddev 2.99\n",
      "E 0170 | a: 1.19 | b: -3.88 | stddev 2.99\n",
      "E 0180 | a: 1.19 | b: -3.88 | stddev 2.99\n",
      "E 0190 | a: 1.19 | b: -3.89 | stddev 2.99\n",
      "E 0200 | a: 1.19 | b: -3.89 | stddev 2.99\n",
      "E 0210 | a: 1.19 | b: -3.89 | stddev 2.99\n",
      "E 0220 | a: 1.19 | b: -3.89 | stddev 2.99\n",
      "E 0230 | a: 1.19 | b: -3.89 | stddev 2.99\n",
      "E 0240 | a: 1.19 | b: -3.89 | stddev 2.99\n",
      "E 0250 | a: 1.19 | b: -3.89 | stddev 2.99\n",
      "E 0260 | a: 1.19 | b: -3.90 | stddev 2.99\n",
      "E 0270 | a: 1.19 | b: -3.90 | stddev 2.99\n",
      "E 0280 | a: 1.19 | b: -3.90 | stddev 2.99\n",
      "E 0290 | a: 1.19 | b: -3.90 | stddev 2.99\n",
      "E 0300 | a: 1.19 | b: -3.90 | stddev 2.99\n"
     ]
    }
   ],
   "source": [
    "def squared_error(x_values, y_values, a, b):\n",
    "    yhat = (a * x_values + b)\n",
    "    return np.sum((y_values - yhat) ** 2)\n",
    "def deriv_wrt_a(x_values, y_values, a, b):\n",
    "    errors = y_values - (a * x_values + b)\n",
    "    return (1 / len(x_values)) * np.sum(-2 * errors * x_values)\n",
    "\n",
    "def deriv_wrt_b(x_values, y_values, a, b):\n",
    "    errors = y_values - (a * x_values + b)\n",
    "    return (1 / len(x_values)) * np.sum(-2 * errors * 1)\n",
    "\n",
    "LEARNING_RATE_A = 0.01\n",
    "LEARNING_RATE_B = 0.1\n",
    "a, b = 0.0, 0.0\n",
    "\n",
    "std_devs = {}\n",
    "# store standard deviations for each iteration of gradient descent so we can plot how well we are doing.  \n",
    "# Specifically if we are minimizing the mean squared error\n",
    "\n",
    "for epoch_idx in range(1, 301):\n",
    "    da = deriv_wrt_a(x_values, y_values, a, b)\n",
    "    db = deriv_wrt_b(x_values, y_values, a, b)\n",
    "    \n",
    "    a -= LEARNING_RATE_A * da\n",
    "    b -= LEARNING_RATE_B * db\n",
    "    if epoch_idx % 10 == 0:\n",
    "        std_dev = np.sqrt((1 / len(x_values)) * squared_error(x_values, y_values, a, b))\n",
    "        std_devs[epoch_idx] = std_dev\n",
    "        print(f'E {epoch_idx:04d} | a: {a:.2f} | b: {b:.2f} | stddev {std_dev:0.2f}')\n",
    "        "
   ]
  },
  {
   "cell_type": "code",
   "execution_count": 8,
   "metadata": {},
   "outputs": [
    {
     "data": {
      "text/plain": [
       "Text(0.5,0,'Epoch Index')"
      ]
     },
     "execution_count": 8,
     "metadata": {},
     "output_type": "execute_result"
    },
    {
     "data": {
      "image/png": "[encoded data removed]",
      "text/plain": [
       "<matplotlib.figure.Figure at 0x7efcad8413c8>"
      ]
     },
     "metadata": {},
     "output_type": "display_data"
    }
   ],
   "source": [
    "std_deviations = pd.Series(std_devs)\n",
    "plt.plot(std_deviations, '.')\n",
    "plt.ylabel('Standard Deviation of Mean Squared Error')\n",
    "plt.xlabel('Epoch Index')"
   ]
  },
  {
   "cell_type": "raw",
   "metadata": {
    "collapsed": true
   },
   "source": [
    "The standard deviation of the mean squared error bottoms out around 2.99 after 50 iterations or so of gradient descent.  Continuing for another 200 or so iterations, we can confirm that this is the case.  From above, our values for a, and b are 1.19 and -3.9 respectively.  "
   ]
  },
  {
   "cell_type": "code",
   "execution_count": 11,
   "metadata": {},
   "outputs": [
    {
     "data": {
      "text/plain": [
       "[<matplotlib.lines.Line2D at 0x7efcad64dc50>]"
      ]
     },
     "execution_count": 11,
     "metadata": {},
     "output_type": "execute_result"
    },
    {
     "data": {
      "image/png": "[encoded data removed]",
      "text/plain": [
       "<matplotlib.figure.Figure at 0x7efcad6ecc88>"
      ]
     },
     "metadata": {},
     "output_type": "display_data"
    }
   ],
   "source": [
    "plt.plot(x_values, y_values, '.')\n",
    "m, b = np.polyfit(x_values, y_values, 1) # Use numpy built-in linear regression. \n",
    "                                         # Which happens to also use minimum least squares\n",
    "\n",
    "plt.plot(x_values, m*x_values + b, '-')\n",
    "our_a, our_b = 1.19, -3.9\n",
    "\n",
    "plt.plot(x_values, a*x_values + our_b, '+')"
   ]
  },
  {
   "cell_type": "markdown",
   "metadata": {},
   "source": [
    "### Our guess for linear regression is shown as the green line above.  It is nearly the same as the prediction from numpy's built in polyfit' "
   ]
  },
  {
   "cell_type": "markdown",
   "metadata": {},
   "source": [
    "We can now use the Normal Equation, which uses matrix multiplication to give us an answer which minimizes mean squared error for problems with low number of features"
   ]
  },
  {
   "cell_type": "markdown",
   "metadata": {},
   "source": [
    "\\\\[\n",
    "(trans{X}X)^{-1} trans{X}y\n",
    "\\\\]"
   ]
  },
  {
   "cell_type": "code",
   "execution_count": 19,
   "metadata": {},
   "outputs": [
    {
     "name": "stdout",
     "output_type": "stream",
     "text": [
      "1   -3.895781\n",
      "x    1.193034\n",
      "dtype: float64\n"
     ]
    }
   ],
   "source": [
    "x_df = data.iloc[:,0:1]\n",
    "x_df.insert(loc=0, column='1', value=[1] * y_values.size)\n",
    "\n",
    "def p_inv(df):\n",
    "    return pd.DataFrame(np.linalg.pinv(df.values), df.columns, df.index)\n",
    "\n",
    "def matrix_mult(x_df, y_values):\n",
    "    x_transpose = x_df.transpose()\n",
    "    return p_inv((x_transpose.dot(x_df))).dot(x_transpose).dot(y_values)\n",
    "\n",
    "print(matrix_mult(x_df, y_values))"
   ]
  },
  {
   "cell_type": "markdown",
   "metadata": {},
   "source": [
    "Funny enough, the normal equation gives us exactly the same answer as numpy polyfit.  I wonder what numpy is using under the hood..."
   ]
  }
 ],
 "metadata": {
  "kernelspec": {
   "display_name": "Python 3",
   "language": "python",
   "name": "python3"
  },
  "language_info": {
   "codemirror_mode": {
    "name": "ipython",
    "version": 3
   },
   "file_extension": ".py",
   "mimetype": "text/x-python",
   "name": "python",
   "nbconvert_exporter": "python",
   "pygments_lexer": "ipython3",
   "version": "3.6.3"
  }
 },
 "nbformat": 4,
 "nbformat_minor": 2
}

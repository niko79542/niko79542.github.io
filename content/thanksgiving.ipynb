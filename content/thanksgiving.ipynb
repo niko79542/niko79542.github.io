{
 "cells": [
  {
   "cell_type": "markdown",
   "metadata": {},
   "source": [
    "## The Thanksgiving data**\n",
    "\n",
    "This data came from Five-Thirty-Eight's data repository. I give them full credit for the collection of the data.   https://github.com/fivethirtyeight/data/tree/master/thanksgiving-2015)\n",
    "\n",
    "\\*\\* *This data is no way representitive of the total US population.  Five-thirty-eight polled 1058 respondants on Nov 17th 2015.  Furthermore, due to small sample size, data is unlikely to be statistically significant.  This project was for learning purposes (NumPy, Pandas, Jupyter).  *\n"
   ]
  },
  {
   "cell_type": "markdown",
   "metadata": {},
   "source": [
    "## Goals\n",
    "\n",
    "** Some important questions that we set out to answer during this project!**\n",
    "\n",
    "* What is the most popular dish at Thanksgiving dinner?  What is the most popular meal?\n",
    "* What percent of people don't have pie during Thanksgiving?\n",
    "* Is travel correlated with age or income?\n",
    "* Is celebrating Friendsgiving correlated with age? "
   ]
  },
  {
   "cell_type": "code",
   "execution_count": null,
   "metadata": {
    "collapsed": true
   },
   "outputs": [],
   "source": []
  },
  {
   "cell_type": "markdown",
   "metadata": {},
   "source": [
    "## Motivations \n",
    "\n",
    "* To learn Pandas and Numpy;  two cool python libraries used for Data Analysis.  \n",
    "\n",
    "**Numpy:**\n",
    "* Makes it easy to create and manupulate data stored in multi-dimensional arrays.\n",
    "\n",
    "**Pandas:**\n",
    "* Built on top of numpy\n",
    "* Flexibility to hold data of different types!\n",
    "* Flexibility to deal with missing values."
   ]
  },
  {
   "cell_type": "code",
   "execution_count": null,
   "metadata": {
    "collapsed": true
   },
   "outputs": [],
   "source": []
  },
  {
   "cell_type": "code",
   "execution_count": null,
   "metadata": {
    "collapsed": true
   },
   "outputs": [],
   "source": []
  },
  {
   "cell_type": "code",
   "execution_count": 1,
   "metadata": {
    "collapsed": true
   },
   "outputs": [],
   "source": [
    "\n",
    "\n",
    "import pandas as pd  \n",
    "\n",
    "data = pd.read_csv(\"thanksgiving.csv\", \n",
    "                   encoding=\"Latin-1\")"
   ]
  },
  {
   "cell_type": "code",
   "execution_count": null,
   "metadata": {
    "collapsed": true
   },
   "outputs": [],
   "source": []
  },
  {
   "cell_type": "markdown",
   "metadata": {},
   "source": [
    "## Remove responses from people who are not celebrating the holiday:"
   ]
  },
  {
   "cell_type": "code",
   "execution_count": 2,
   "metadata": {
    "collapsed": false
   },
   "outputs": [
    {
     "name": "stdout",
     "output_type": "stream",
     "text": [
      "Yes    980\n",
      "No      78\n",
      "Name: Do you celebrate Thanksgiving?, dtype: int64\n"
     ]
    }
   ],
   "source": [
    "is_american = 'Do you celebrate Thanksgiving?'\n",
    "print(data[is_american].value_counts())"
   ]
  },
  {
   "cell_type": "code",
   "execution_count": 11,
   "metadata": {
    "collapsed": false
   },
   "outputs": [],
   "source": [
    "america_bool = data[is_american] == \"Yes\"\n",
    "americans = data[america_bool]\n"
   ]
  },
  {
   "cell_type": "markdown",
   "metadata": {},
   "source": [
    "### What are is the most common meal at Thanksgiving?"
   ]
  },
  {
   "cell_type": "code",
   "execution_count": 40,
   "metadata": {
    "collapsed": false
   },
   "outputs": [
    {
     "data": {
      "text/html": [
       "<div>\n",
       "<table border=\"1\" class=\"dataframe\">\n",
       "  <thead>\n",
       "    <tr style=\"text-align: right;\">\n",
       "      <th></th>\n",
       "      <th>How is the main dish typically cooked?</th>\n",
       "      <th>What is typically the main dish at your Thanksgiving dinner?</th>\n",
       "      <th>What kind of stuffing/dressing do you typically have?</th>\n",
       "      <th>What type of cranberry saucedo you typically have?</th>\n",
       "    </tr>\n",
       "  </thead>\n",
       "  <tbody>\n",
       "    <tr>\n",
       "      <th>0</th>\n",
       "      <td>Baked</td>\n",
       "      <td>Turkey</td>\n",
       "      <td>Bread-based</td>\n",
       "      <td>Canned</td>\n",
       "    </tr>\n",
       "  </tbody>\n",
       "</table>\n",
       "</div>"
      ],
      "text/plain": [
       "  How is the main dish typically cooked?  \\\n",
       "0                                  Baked   \n",
       "\n",
       "  What is typically the main dish at your Thanksgiving dinner?  \\\n",
       "0                                             Turkey             \n",
       "\n",
       "  What kind of stuffing/dressing do you typically have?  \\\n",
       "0                                        Bread-based      \n",
       "\n",
       "  What type of cranberry saucedo you typically have?  \n",
       "0                                             Canned  "
      ]
     },
     "execution_count": 40,
     "metadata": {},
     "output_type": "execute_result"
    }
   ],
   "source": [
    "main_dish = \"What is typically the main dish at your Thanksgiving dinner?\"\n",
    "main_cooked = 'How is the main dish typically cooked?'\n",
    "stuffing = 'What kind of stuffing/dressing do you typically have?'\n",
    "cran = 'What type of cranberry saucedo you typically have?'\n",
    "\n",
    "main_dishes = americans[[main_cooked, main_dish, stuffing, cran]].copy()\n",
    "main_dishes.mode()"
   ]
  },
  {
   "cell_type": "markdown",
   "metadata": {},
   "source": [
    "### Baked Turkey with stuffing was by far the most common main dish in Folk's Thanksgiving Dinner"
   ]
  },
  {
   "cell_type": "markdown",
   "metadata": {},
   "source": [
    "### Next: Find most common 1) Side Dish 2) Pie, 3) Dessert"
   ]
  },
  {
   "cell_type": "markdown",
   "metadata": {},
   "source": [
    "##### Side Dish"
   ]
  },
  {
   "cell_type": "code",
   "execution_count": 62,
   "metadata": {
    "collapsed": false,
    "scrolled": true
   },
   "outputs": [
    {
     "data": {
      "text/plain": [
       "'Mashed potatoes'"
      ]
     },
     "execution_count": 62,
     "metadata": {},
     "output_type": "execute_result"
    }
   ],
   "source": [
    "[americans[mac].value_counts().idxmax(), americans[mac].value_counts().max()]\n",
    "a2 = americans[[mac, brus]].copy()\n",
    "a2\n",
    "\n",
    "# Use regex to select columns pertaining to side dishes\n",
    "\n",
    "import re\n",
    "#ok\n",
    "def filter_names(list, dish_type):\n",
    "    regex = re.compile(dish_type).search\n",
    "    return [ name for name in list for m in (regex(name),) if m ]\n",
    "\n",
    "col_names = americans.columns.values\n",
    "side_dish_names = filter_names(col_names,'side dishes')\n",
    "\n",
    "# Create new dataframe to analyze side dishes.\n",
    "\n",
    "side_dishes = americans[side_dish_names].copy()\n",
    "\n",
    "# Use regex to shorten column names\n",
    "#ok\n",
    "def shorten_list(list,filter):\n",
    "    return [ m.group(0) for l in list for m in (filter(l),) if m]\n",
    "\n",
    "searchRegex = re.compile('(?<= - ).*').search\n",
    "short_dishes = shorten_list(side_dish_names,searchRegex)\n",
    "\n",
    "side_dishes.columns = short_dishes \n",
    "\n",
    "side_dishes.head(5)\n",
    "\n",
    "\n",
    "most_common_sides = {}\n",
    "for food in side_dishes.columns:\n",
    "    count_food = side_dishes[food].value_counts()\n",
    "    most_common_sides[food] = count_food.max()\n",
    "\n",
    "most_common_sides\n",
    "\n",
    "best_side_dish = max(most_common_sides, key=most_common_sides.get)\n",
    "best_side_dish"
   ]
  },
  {
   "cell_type": "code",
   "execution_count": null,
   "metadata": {
    "collapsed": true
   },
   "outputs": [],
   "source": [
    "##### The most common side dish reported was mashed potatoes"
   ]
  },
  {
   "cell_type": "code",
   "execution_count": null,
   "metadata": {
    "collapsed": true
   },
   "outputs": [],
   "source": []
  },
  {
   "cell_type": "code",
   "execution_count": null,
   "metadata": {
    "collapsed": false
   },
   "outputs": [],
   "source": [
    "ate_gravy = \"Do you typically have gravy?\"\n",
    "tofurkey_eaters_bool = americans[main_dish] == \"Tofurkey\"\n",
    "tofurkeyers = americans[tofurkey_eaters_bool]"
   ]
  },
  {
   "cell_type": "code",
   "execution_count": null,
   "metadata": {
    "collapsed": false
   },
   "outputs": [],
   "source": [
    "apple_q = \"Which type of pie is typically served at your Thanksgiving dinner? Please select all that apply. - Apple\"\n",
    "pumpkin_q = \"Which type of pie is typically served at your Thanksgiving dinner? Please select all that apply. - Pumpkin\"\n",
    "pecan_q = \"Which type of pie is typically served at your Thanksgiving dinner? Please select all that apply. - Pecan\"\n",
    "\n",
    "ate_apple = americans[apple_q]\n",
    "ate_pumpkin = americans[pumpkin_q]\n",
    "ate_pecan = americans[pecan_q]\n",
    "\n",
    "ate_pies = (pd.isnull(ate_apple) & \n",
    "            pd.isnull(ate_pumpkin) & \n",
    "            pd.isnull(ate_pecan))\n",
    "\n",
    "print(ate_pies.value_counts())"
   ]
  },
  {
   "cell_type": "code",
   "execution_count": null,
   "metadata": {
    "collapsed": true
   },
   "outputs": [],
   "source": []
  },
  {
   "cell_type": "code",
   "execution_count": null,
   "metadata": {
    "collapsed": true
   },
   "outputs": [],
   "source": [
    "def convert_age(n):\n",
    "    if pd.isnull(n):\n",
    "        return None\n",
    "    \n",
    "    age = str(n).split(\" \")[0]\n",
    "    age = age.replace(\"+\",\"\")\n",
    "    return int(age)"
   ]
  },
  {
   "cell_type": "code",
   "execution_count": null,
   "metadata": {
    "collapsed": false
   },
   "outputs": [],
   "source": [
    "americans[\"int_age\"] = americans[\"Age\"].apply(convert_age)\n",
    "print(americans[\"int_age\"].describe())"
   ]
  },
  {
   "cell_type": "code",
   "execution_count": null,
   "metadata": {
    "collapsed": true
   },
   "outputs": [],
   "source": []
  },
  {
   "cell_type": "code",
   "execution_count": null,
   "metadata": {
    "collapsed": true
   },
   "outputs": [],
   "source": []
  },
  {
   "cell_type": "markdown",
   "metadata": {
    "collapsed": true
   },
   "source": [
    "# Actual ages not used\n",
    "### Age responses were converted from ranges to numbers for simplicity.\n",
    "\n",
    "| Original Range  | Age used for analysis  |\n",
    "|-----------------|------------------------|\n",
    "| 18 - 29 | 18  | \n",
    "| 30 - 44  | 30  | \n",
    "| 45 - 59  |  45 |\n",
    "| 60+  | 60  |\n",
    " \n"
   ]
  },
  {
   "cell_type": "code",
   "execution_count": null,
   "metadata": {
    "collapsed": true
   },
   "outputs": [],
   "source": []
  },
  {
   "cell_type": "code",
   "execution_count": null,
   "metadata": {
    "collapsed": true
   },
   "outputs": [],
   "source": [
    "def convert_income(n): # i.e. $10,000\n",
    "    if pd.isnull(n):\n",
    "        return None \n",
    "    \n",
    "    income = n.split(\" \")[0]\n",
    "    \n",
    "    if (income == \"Prefer\"):\n",
    "        return None\n",
    "    \n",
    "    income = income.replace(\"$\", \"\")\n",
    "    income = income.replace(\",\", \"\")\n",
    "    \n",
    "    return int(income) #==> 10000"
   ]
  },
  {
   "cell_type": "code",
   "execution_count": null,
   "metadata": {
    "collapsed": false
   },
   "outputs": [],
   "source": [
    "income_q = \"How much total combined money did all members of your HOUSEHOLD earn last year?\"\n",
    "\n",
    "americans[\"int_income\"] = americans[income_q].apply(convert_income)\n"
   ]
  },
  {
   "cell_type": "code",
   "execution_count": null,
   "metadata": {
    "collapsed": true
   },
   "outputs": [],
   "source": []
  },
  {
   "cell_type": "markdown",
   "metadata": {},
   "source": [
    "# Not a true depiction of incomes.  \n",
    "### Income responses were converted from ranges to numbers for simplicity.\n",
    "\n",
    "\n",
    "| Original Income Range  | Income used for analysis  |\n",
    "|------------------------|---------------------------|\n",
    "|  \\$0                    |  \\$0                        | \n",
    "|  \\$10,000 - \\$24,000    |  \\$10,000                    | \n",
    "|  \\$25,000 - \\$49,000     |  \\$25,000                    |\n",
    "|  \\$50,000 - \\$74,999     |  \\$50,000                    |\n",
    "|  \\$75,000 - \\$99,999     |  \\$75,000                    |\n",
    "|  \\$100,000 - \\$124,999   |  \\$100,000                   |\n",
    "|  \\$125,000 - \\$149,999   |  \\$125,000                   |\n",
    "|  \\$150,000 - \\$174,999   |  \\$150,000                   |\n",
    "|  \\$175,000 - \\$199,999   |  \\$175,000                   |\n",
    "|  \\$200,000+             |  \\$200,000                   |"
   ]
  },
  {
   "cell_type": "markdown",
   "metadata": {},
   "source": [
    "### Seemingly larger number of responses for the final category  (\\$200,000+) is just because it covers the biggest income range."
   ]
  },
  {
   "cell_type": "markdown",
   "metadata": {
    "collapsed": true
   },
   "source": [
    "| Income  | Respondents  |\n",
    "|---------|--------------|\n",
    "|  \\$0       |       52  |\n",
    "|  \\$10,000   |       60  |\n",
    "|  \\$25,000   |      166  |\n",
    "|  \\$50,000   |      127  |\n",
    "|  \\$75,000   |      127  |\n",
    "|  \\$100,000  |      109  |\n",
    "|  \\$125,000  |       48  |\n",
    "|  \\$150,000  |       38  |\n",
    "|  \\$175,000  |       26  |\n",
    "|  \\$200,000  |       76  |"
   ]
  },
  {
   "cell_type": "code",
   "execution_count": null,
   "metadata": {
    "collapsed": true
   },
   "outputs": [],
   "source": []
  },
  {
   "cell_type": "markdown",
   "metadata": {},
   "source": [
    "## Calculate breakdown of travel by Income\n",
    "##### Test the hypothesis that low income earners are more likely to travel due to them travelling to their parents house\n"
   ]
  },
  {
   "cell_type": "code",
   "execution_count": null,
   "metadata": {
    "collapsed": true
   },
   "outputs": [],
   "source": []
  },
  {
   "cell_type": "markdown",
   "metadata": {},
   "source": [
    "###### First create a pivot table broken down by Travel and Income"
   ]
  },
  {
   "cell_type": "code",
   "execution_count": null,
   "metadata": {
    "collapsed": false
   },
   "outputs": [],
   "source": [
    "travel_q = \"How far will you travel for Thanksgiving?\"\n",
    "index_id = \"RespondentID\"\n",
    "income = \"int_income\"\n",
    "no_travel = \"Thanksgiving is happening at my home--I won't travel at all\"\n",
    "\n",
    "\n",
    "travel_by_income = pd.pivot_table(americans, \n",
    "                                  values=[index_id], \n",
    "                                  index=[travel_q],\n",
    "                                  columns=[income],\n",
    "                                  aggfunc=len, margins=True)\n",
    "\n",
    "# next calculate percentabes by value \n",
    "\n",
    "travel_by_income_as_pct = travel_by_income.div(travel_by_income.iloc[-1,:], axis=1)\n",
    "pct_no_travel = travel_by_income_as_pct.loc[no_travel]"
   ]
  },
  {
   "cell_type": "code",
   "execution_count": null,
   "metadata": {
    "collapsed": true
   },
   "outputs": [],
   "source": []
  },
  {
   "cell_type": "code",
   "execution_count": null,
   "metadata": {
    "collapsed": false
   },
   "outputs": [],
   "source": [
    "pct_travel = (1 - pct_no_travel)\n",
    "print(pct_travel)"
   ]
  },
  {
   "cell_type": "code",
   "execution_count": null,
   "metadata": {
    "collapsed": true
   },
   "outputs": [],
   "source": []
  },
  {
   "cell_type": "code",
   "execution_count": null,
   "metadata": {
    "collapsed": true
   },
   "outputs": [],
   "source": []
  },
  {
   "cell_type": "code",
   "execution_count": null,
   "metadata": {
    "collapsed": true
   },
   "outputs": [],
   "source": []
  },
  {
   "cell_type": "markdown",
   "metadata": {
    "collapsed": true
   },
   "source": [
    "| Income  | Percent of Income Group who Travel  |\n",
    "|---------|-------------------------------------|\n",
    "|  \\$10,000   |       58%  |\n",
    "|  \\$25,000   |      64%  |\n",
    "|  \\$50,000   |      68%  |\n",
    "|  \\$75,000   |      54%  |\n",
    "|  \\$100,000  |      54%  |\n",
    "|  \\$125,000  |       46%  |\n",
    "|  \\$150,000  |       55%  |\n",
    "|  \\$175,000  |       58%  |\n",
    "|  \\$200,000  |       50%  |\n",
    "|  All        |       58%  |"
   ]
  },
  {
   "cell_type": "markdown",
   "metadata": {},
   "source": [
    "#### Without performing Statistical Analysis on the Data, it is hard to say if these numbers are significant.  \n",
    "* On average, 58% of people travelled during thanksgiving. \n",
    "* On average, the $10k, $25k, and $50k income grous travelled 58%, 64%, and 68% of the time respectively.  \n",
    "* All of these buckets were above average.  \n",
    "* Again - Can't yet tell if these numbers are significant. "
   ]
  },
  {
   "cell_type": "markdown",
   "metadata": {
    "collapsed": true
   },
   "source": [
    "## Calculate breakdown of travel for age group\n",
    "#### Let's look at the same question, but for age group.  "
   ]
  },
  {
   "cell_type": "code",
   "execution_count": null,
   "metadata": {
    "collapsed": false
   },
   "outputs": [],
   "source": [
    "travel_by_age = pd.pivot_table(americans,\n",
    "                               values=[index_id],\n",
    "                               index=[travel_q], \n",
    "                               columns=[\"int_age\"],\n",
    "                               aggfunc=len,\n",
    "                               margins=True)\n",
    "\n",
    "\n"
   ]
  },
  {
   "cell_type": "code",
   "execution_count": null,
   "metadata": {
    "collapsed": true
   },
   "outputs": [],
   "source": []
  },
  {
   "cell_type": "code",
   "execution_count": null,
   "metadata": {
    "collapsed": false
   },
   "outputs": [],
   "source": [
    "print(travel_by_age)"
   ]
  },
  {
   "cell_type": "code",
   "execution_count": null,
   "metadata": {
    "collapsed": true
   },
   "outputs": [],
   "source": []
  },
  {
   "cell_type": "markdown",
   "metadata": {},
   "source": [
    "\n",
    " "
   ]
  },
  {
   "cell_type": "code",
   "execution_count": null,
   "metadata": {
    "collapsed": true
   },
   "outputs": [],
   "source": []
  },
  {
   "cell_type": "markdown",
   "metadata": {},
   "source": [
    "# Linking Friendship with Age and Income"
   ]
  },
  {
   "cell_type": "code",
   "execution_count": null,
   "metadata": {
    "collapsed": true
   },
   "outputs": [],
   "source": []
  },
  {
   "cell_type": "code",
   "execution_count": null,
   "metadata": {
    "collapsed": false
   },
   "outputs": [],
   "source": [
    "hometown_q = \"Have you ever tried to meet up with hometown friends on Thanksgiving night?\"\n",
    "friendsgiving_q = 'Have you ever attended a \"Friendsgiving?\"'\n",
    "\n",
    "friendship_age = americans.pivot_table(index=hometown_q, \n",
    "                                       columns=[friendsgiving_q], \n",
    "                                       values=\"int_age\")\n",
    "\n",
    "print(friendship_age)"
   ]
  },
  {
   "cell_type": "code",
   "execution_count": null,
   "metadata": {
    "collapsed": true
   },
   "outputs": [],
   "source": []
  },
  {
   "cell_type": "code",
   "execution_count": null,
   "metadata": {
    "collapsed": true
   },
   "outputs": [],
   "source": []
  },
  {
   "cell_type": "code",
   "execution_count": null,
   "metadata": {
    "collapsed": false
   },
   "outputs": [],
   "source": [
    "friendship_income = americans.pivot_table(index=hometown_q, \n",
    "                                          columns=[friendsgiving_q], \n",
    "                                          values=\"int_income\")\n",
    "print(friendship_income)"
   ]
  },
  {
   "cell_type": "markdown",
   "metadata": {
    "collapsed": true
   },
   "source": [
    "\n",
    "\n"
   ]
  },
  {
   "cell_type": "code",
   "execution_count": null,
   "metadata": {
    "collapsed": true
   },
   "outputs": [],
   "source": []
  },
  {
   "cell_type": "code",
   "execution_count": null,
   "metadata": {
    "collapsed": true
   },
   "outputs": [],
   "source": []
  },
  {
   "cell_type": "code",
   "execution_count": null,
   "metadata": {
    "collapsed": true
   },
   "outputs": [],
   "source": []
  },
  {
   "cell_type": "code",
   "execution_count": null,
   "metadata": {
    "collapsed": true
   },
   "outputs": [],
   "source": []
  }
 ],
 "metadata": {
  "anaconda-cloud": {},
  "kernelspec": {
   "display_name": "Python [default]",
   "language": "python",
   "name": "python3"
  },
  "language_info": {
   "codemirror_mode": {
    "name": "ipython",
    "version": 3
   },
   "file_extension": ".py",
   "mimetype": "text/x-python",
   "name": "python",
   "nbconvert_exporter": "python",
   "pygments_lexer": "ipython3",
   "version": "3.5.2"
  }
 },
 "nbformat": 4,
 "nbformat_minor": 0
}

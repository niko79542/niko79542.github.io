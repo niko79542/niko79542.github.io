{
 "cells": [
  {
   "cell_type": "markdown",
   "metadata": {},
   "source": [
    "## The Thanksgiving data**\n",
    "\n",
    "This data came from Five-Thirty-Eight's data repository. I give them full credit for the collection of the data.   https://github.com/fivethirtyeight/data/tree/master/thanksgiving-2015)\n",
    "\n",
    "\\*\\* *This data is no way representitive of the total US population.  Five-thirty-eight polled 1058 respondants on Nov 17th 2015.  Furthermore, due to small sample size, data is unlikely to be statistically significant.  This project was for learning purposes (NumPy, Pandas, Jupyter).  *\n"
   ]
  },
  {
   "cell_type": "markdown",
   "metadata": {},
   "source": [
    "## Goals\n",
    "\n",
    "** Some questions that we set out to answer during this project!**\n",
    "\n",
    "* What is the most popular dish at Thanksgiving dinner?  What is the most popular meal?\n",
    "* Tofurkey is a main thanksgiving dish comprised of both Tofu and Turkey.  What are the main side dishes that tofurkey eaters have during the holiday?\n",
    "* Is travel correlated with age or income?\n",
    "* Is celebrating Friendsgiving correlated with age? "
   ]
  },
  {
   "cell_type": "markdown",
   "metadata": {},
   "source": [
    "## Motivations \n",
    "\n",
    "* To learn Pandas and Numpy;  two cool python libraries used for Data Analysis.  \n",
    "\n",
    "**Numpy:**\n",
    "* Makes it easy to create and manupulate data stored in multi-dimensional arrays.\n",
    "\n",
    "**Pandas:**\n",
    "* Built on top of numpy\n",
    "* Flexibility to hold data of different types!\n",
    "* Flexibility to deal with missing values."
   ]
  },
  {
   "cell_type": "code",
   "execution_count": 1,
   "metadata": {
    "collapsed": true
   },
   "outputs": [],
   "source": [
    "\n",
    "\n",
    "import pandas as pd  \n",
    "\n",
    "data = pd.read_csv(\"thanksgiving.csv\", \n",
    "                   encoding=\"Latin-1\")"
   ]
  },
  {
   "cell_type": "markdown",
   "metadata": {},
   "source": [
    "## Remove responses from people who are not celebrating the holiday:"
   ]
  },
  {
   "cell_type": "code",
   "execution_count": 2,
   "metadata": {
    "collapsed": false
   },
   "outputs": [
    {
     "name": "stdout",
     "output_type": "stream",
     "text": [
      "Yes    980\n",
      "No      78\n",
      "Name: Do you celebrate Thanksgiving?, dtype: int64\n"
     ]
    }
   ],
   "source": [
    "is_american = 'Do you celebrate Thanksgiving?'\n",
    "print(data[is_american].value_counts())"
   ]
  },
  {
   "cell_type": "code",
   "execution_count": 3,
   "metadata": {
    "collapsed": false
   },
   "outputs": [],
   "source": [
    "america_bool = data[is_american] == \"Yes\"\n",
    "americans = data[america_bool]\n"
   ]
  },
  {
   "cell_type": "markdown",
   "metadata": {},
   "source": [
    "### What are is the most common meal at Thanksgiving?"
   ]
  },
  {
   "cell_type": "code",
   "execution_count": 4,
   "metadata": {
    "collapsed": false
   },
   "outputs": [
    {
     "data": {
      "text/html": [
       "<div>\n",
       "<table border=\"1\" class=\"dataframe\">\n",
       "  <thead>\n",
       "    <tr style=\"text-align: right;\">\n",
       "      <th></th>\n",
       "      <th>How is the main dish typically cooked?</th>\n",
       "      <th>What is typically the main dish at your Thanksgiving dinner?</th>\n",
       "      <th>What kind of stuffing/dressing do you typically have?</th>\n",
       "      <th>What type of cranberry saucedo you typically have?</th>\n",
       "    </tr>\n",
       "  </thead>\n",
       "  <tbody>\n",
       "    <tr>\n",
       "      <th>0</th>\n",
       "      <td>Baked</td>\n",
       "      <td>Turkey</td>\n",
       "      <td>Bread-based</td>\n",
       "      <td>Canned</td>\n",
       "    </tr>\n",
       "  </tbody>\n",
       "</table>\n",
       "</div>"
      ],
      "text/plain": [
       "  How is the main dish typically cooked?  \\\n",
       "0                                  Baked   \n",
       "\n",
       "  What is typically the main dish at your Thanksgiving dinner?  \\\n",
       "0                                             Turkey             \n",
       "\n",
       "  What kind of stuffing/dressing do you typically have?  \\\n",
       "0                                        Bread-based      \n",
       "\n",
       "  What type of cranberry saucedo you typically have?  \n",
       "0                                             Canned  "
      ]
     },
     "execution_count": 4,
     "metadata": {},
     "output_type": "execute_result"
    }
   ],
   "source": [
    "main_dish = \"What is typically the main dish at your Thanksgiving dinner?\"\n",
    "main_cooked = 'How is the main dish typically cooked?'\n",
    "stuffing = 'What kind of stuffing/dressing do you typically have?'\n",
    "cran = 'What type of cranberry saucedo you typically have?'\n",
    "\n",
    "main_dishes = americans[[main_cooked, main_dish, stuffing, cran]].copy()\n",
    "main_dishes.mode()"
   ]
  },
  {
   "cell_type": "markdown",
   "metadata": {},
   "source": [
    "### Baked Turkey with stuffing was by far the most common main dish in Folk's Thanksgiving Dinner"
   ]
  },
  {
   "cell_type": "markdown",
   "metadata": {},
   "source": [
    "### Next: Find most common 1) Side Dish 2) Pie, 3) Dessert"
   ]
  },
  {
   "cell_type": "code",
   "execution_count": 5,
   "metadata": {
    "collapsed": false
   },
   "outputs": [],
   "source": [
    "import re\n",
    "import math\n",
    "# create a small MaxSideDish module that calculates most popular side dishes based on a food selector.\n",
    "# We can use this module for side dishes, desserts, and pie!\n",
    "\n",
    "class MaxSideDish:\n",
    "    def __init__(self, col_name, df):\n",
    "        self.col_name = col_name\n",
    "        self.df = df\n",
    "        \n",
    "        # Which columns from the dataframe (df) match the col_name in question.  \n",
    "        # (i.e. with \"side dishes\" as col_name, match all columns that mention side dishes)\n",
    "        #\n",
    "        self.filter_names()\n",
    "        \n",
    "        # create new dataframe, col_dishes, that contain all columns that match our col_name attribute\n",
    "        self.col_dishes = df[self.food_names].copy() \n",
    "        \n",
    "        \n",
    "        # Use regex to shorten column names\n",
    "        self.shorten_list()\n",
    "        \n",
    "        # Find count of food per column\n",
    "        self.aggregate_food_counts()\n",
    "        \n",
    "        #Find food with max count\n",
    "        self.most_common_side = max(self.most_common_sides, key=self.most_common_sides.get)\n",
    "    \n",
    "    def filter_names(self):\n",
    "        regex = re.compile(self.col_name).search\n",
    "        self.food_names = [ name for name in self.df for m in (regex(name),) if m ]\n",
    "    \n",
    "    def shorten_list(self):\n",
    "        \n",
    "        filter = re.compile('(?<= - ).*').search\n",
    "        \n",
    "        self.short_names = [ m.group(0) for l in self.food_names for m in (filter(l),) if m]\n",
    "        self.col_dishes.columns = self.short_names\n",
    "    \n",
    "        \n",
    "    def aggregate_food_counts(self):\n",
    "        most_common_sides = {}\n",
    "        for food in self.col_dishes.columns:\n",
    "            count_food = self.col_dishes[food].value_counts()\n",
    "            max_food_count = count_food.max()\n",
    "            if not math.isnan(max_food_count):\n",
    "                most_common_sides[food] = max_food_count\n",
    "\n",
    "        self.most_common_sides = most_common_sides"
   ]
  },
  {
   "cell_type": "code",
   "execution_count": null,
   "metadata": {
    "collapsed": true
   },
   "outputs": [],
   "source": []
  },
  {
   "cell_type": "code",
   "execution_count": 6,
   "metadata": {
    "collapsed": false
   },
   "outputs": [
    {
     "data": {
      "text/plain": [
       "'Mashed potatoes'"
      ]
     },
     "execution_count": 6,
     "metadata": {},
     "output_type": "execute_result"
    }
   ],
   "source": [
    "side_dishes = MaxSideDish(\"side dishes\", americans)\n",
    "\n",
    "side_dishes.most_common_side"
   ]
  },
  {
   "cell_type": "code",
   "execution_count": 7,
   "metadata": {
    "collapsed": false
   },
   "outputs": [
    {
     "data": {
      "text/plain": [
       "'Pumpkin'"
      ]
     },
     "execution_count": 7,
     "metadata": {},
     "output_type": "execute_result"
    }
   ],
   "source": [
    "pie = MaxSideDish(\"type of pie\", americans)\n",
    "pie.most_common_side"
   ]
  },
  {
   "cell_type": "code",
   "execution_count": 8,
   "metadata": {
    "collapsed": false
   },
   "outputs": [
    {
     "data": {
      "text/plain": [
       "'None'"
      ]
     },
     "execution_count": 8,
     "metadata": {},
     "output_type": "execute_result"
    }
   ],
   "source": [
    "desserts = MaxSideDish(\"dessert\", americans)\n",
    "desserts.most_common_side"
   ]
  },
  {
   "cell_type": "markdown",
   "metadata": {},
   "source": [
    "### Dessert has 'None' as most common. \n",
    "##### Let's take a look at the breakdown for dessert to get a larger picture."
   ]
  },
  {
   "cell_type": "code",
   "execution_count": 9,
   "metadata": {
    "collapsed": false
   },
   "outputs": [
    {
     "data": {
      "text/plain": [
       "{'Apple cobbler': 110,\n",
       " 'Blondies': 16,\n",
       " 'Brownies': 128,\n",
       " 'Carrot cake': 72,\n",
       " 'Cheesecake': 191,\n",
       " 'Cookies': 204,\n",
       " 'Fudge': 43,\n",
       " 'Ice cream': 266,\n",
       " 'None': 295,\n",
       " 'Other (please specify)': 134,\n",
       " 'Other (please specify).1': 13,\n",
       " 'Peach cobbler': 103}"
      ]
     },
     "execution_count": 9,
     "metadata": {},
     "output_type": "execute_result"
    }
   ],
   "source": [
    "desserts.most_common_sides"
   ]
  },
  {
   "cell_type": "markdown",
   "metadata": {},
   "source": [
    "##### Ice cream is the second most common dessert, behind None'"
   ]
  },
  {
   "cell_type": "code",
   "execution_count": 10,
   "metadata": {
    "collapsed": false
   },
   "outputs": [
    {
     "name": "stdout",
     "output_type": "stream",
     "text": [
      "There were 20 tofurkey eaters\n",
      "Their favorite side dish was Pumpkin\n",
      "Their favorite pie was Ice cream.\n",
      "Their favorite dessert was Mashed potatoes.\n",
      "\n"
     ]
    }
   ],
   "source": [
    "\n",
    "tofurkey_eaters_bool = americans[main_dish] == \"Tofurkey\"\n",
    "# Who ate the tofurkey?\n",
    "tofurkeyers = americans[tofurkey_eaters_bool]\n",
    "\n",
    "# What were the most popular side dish, pie, and dessert of tofurkey eaters?\n",
    "tofu_and_pie = MaxSideDish(\"type of pie\", tofurkeyers)\n",
    "tofu_and_dessert = MaxSideDish(\"dessert\", tofurkeyers)\n",
    "tofu_and_side_dish = MaxSideDish(\"side dishes\", tofurkeyers)\n",
    "\n",
    "print(\"There were {} tofurkey eaters\\nTheir favorite side dish was {}\\nTheir favorite pie was {}.\\nTheir favorite dessert was {}.\\n\".format(len(tofurkeyers.values),\n",
    "                tofu_and_pie.most_common_side,\n",
    "                tofu_and_dessert.most_common_side,\n",
    "                tofu_and_side_dish.most_common_side))\n"
   ]
  },
  {
   "cell_type": "code",
   "execution_count": 11,
   "metadata": {
    "collapsed": true
   },
   "outputs": [],
   "source": [
    "def convert_age(n):\n",
    "    if pd.isnull(n):\n",
    "        return None\n",
    "    \n",
    "    age = str(n).split(\" \")[0]\n",
    "    age = age.replace(\"+\",\"\")\n",
    "    return int(age)"
   ]
  },
  {
   "cell_type": "code",
   "execution_count": 12,
   "metadata": {
    "collapsed": false
   },
   "outputs": [
    {
     "name": "stdout",
     "output_type": "stream",
     "text": [
      "count    947.000000\n",
      "mean      40.089757\n",
      "std       15.352014\n",
      "min       18.000000\n",
      "25%             NaN\n",
      "50%             NaN\n",
      "75%             NaN\n",
      "max       60.000000\n",
      "Name: int_age, dtype: float64\n"
     ]
    }
   ],
   "source": [
    "americans[\"int_age\"] = americans[\"Age\"].apply(convert_age)\n",
    "print(americans[\"int_age\"].describe())"
   ]
  },
  {
   "cell_type": "markdown",
   "metadata": {
    "collapsed": true
   },
   "source": [
    "# Actual ages not used\n",
    "### Age responses were converted from ranges to numbers for simplicity.\n",
    "\n",
    "| Original Range  | Age used for analysis  |\n",
    "|-----------------|------------------------|\n",
    "| 18 - 29 | 18  | \n",
    "| 30 - 44  | 30  | \n",
    "| 45 - 59  |  45 |\n",
    "| 60+  | 60  |\n",
    " \n"
   ]
  },
  {
   "cell_type": "code",
   "execution_count": 13,
   "metadata": {
    "collapsed": true
   },
   "outputs": [],
   "source": [
    "def convert_income(n): # i.e. $10,000\n",
    "    if pd.isnull(n):\n",
    "        return None \n",
    "    \n",
    "    income = n.split(\" \")[0]\n",
    "    \n",
    "    if (income == \"Prefer\"):\n",
    "        return None\n",
    "    \n",
    "    income = income.replace(\"$\", \"\")\n",
    "    income = income.replace(\",\", \"\")\n",
    "    \n",
    "    return int(income) #==> 10000"
   ]
  },
  {
   "cell_type": "code",
   "execution_count": 14,
   "metadata": {
    "collapsed": false
   },
   "outputs": [],
   "source": [
    "income_q = \"How much total combined money did all members of your HOUSEHOLD earn last year?\"\n",
    "\n",
    "americans[\"int_income\"] = americans[income_q].apply(convert_income)\n"
   ]
  },
  {
   "cell_type": "markdown",
   "metadata": {},
   "source": [
    "# Not a true depiction of incomes.  \n",
    "### Income responses were converted from ranges to numbers for simplicity.\n",
    "\n",
    "\n",
    "| Original Income Range  | Income used for analysis  |\n",
    "|------------------------|---------------------------|\n",
    "|  \\$0                    |  \\$0                        | \n",
    "|  \\$10,000 - \\$24,000    |  \\$10,000                    | \n",
    "|  \\$25,000 - \\$49,000     |  \\$25,000                    |\n",
    "|  \\$50,000 - \\$74,999     |  \\$50,000                    |\n",
    "|  \\$75,000 - \\$99,999     |  \\$75,000                    |\n",
    "|  \\$100,000 - \\$124,999   |  \\$100,000                   |\n",
    "|  \\$125,000 - \\$149,999   |  \\$125,000                   |\n",
    "|  \\$150,000 - \\$174,999   |  \\$150,000                   |\n",
    "|  \\$175,000 - \\$199,999   |  \\$175,000                   |\n",
    "|  \\$200,000+             |  \\$200,000                   |"
   ]
  },
  {
   "cell_type": "markdown",
   "metadata": {},
   "source": [
    "### Seemingly larger number of responses for the final category  (\\$200,000+) is just because it covers the biggest income range."
   ]
  },
  {
   "cell_type": "markdown",
   "metadata": {
    "collapsed": true
   },
   "source": [
    "| Income  | Respondents  |\n",
    "|---------|--------------|\n",
    "|  \\$0       |       52  |\n",
    "|  \\$10,000   |       60  |\n",
    "|  \\$25,000   |      166  |\n",
    "|  \\$50,000   |      127  |\n",
    "|  \\$75,000   |      127  |\n",
    "|  \\$100,000  |      109  |\n",
    "|  \\$125,000  |       48  |\n",
    "|  \\$150,000  |       38  |\n",
    "|  \\$175,000  |       26  |\n",
    "|  \\$200,000  |       76  |"
   ]
  },
  {
   "cell_type": "markdown",
   "metadata": {},
   "source": [
    "## Calculate breakdown of travel by Income\n",
    "##### Test the hypothesis that low income earners are more likely to travel due to them travelling to their parents house\n"
   ]
  },
  {
   "cell_type": "markdown",
   "metadata": {},
   "source": [
    "###### First create a pivot table broken down by Travel and Income"
   ]
  },
  {
   "cell_type": "code",
   "execution_count": 15,
   "metadata": {
    "collapsed": false
   },
   "outputs": [],
   "source": [
    "travel_q = \"How far will you travel for Thanksgiving?\"\n",
    "index_id = \"RespondentID\"\n",
    "income = \"int_income\"\n",
    "no_travel = \"Thanksgiving is happening at my home--I won't travel at all\"\n",
    "\n",
    "\n",
    "travel_by_income = pd.pivot_table(americans, \n",
    "                                  values=[index_id], \n",
    "                                  index=[travel_q],\n",
    "                                  columns=[income],\n",
    "                                  aggfunc=len, margins=True)\n",
    "\n",
    "# next calculate percentabes by value \n",
    "\n",
    "travel_by_income_as_pct = travel_by_income.div(travel_by_income.iloc[-1,:], axis=1)\n",
    "pct_no_travel = travel_by_income_as_pct.loc[no_travel]"
   ]
  },
  {
   "cell_type": "code",
   "execution_count": 16,
   "metadata": {
    "collapsed": false
   },
   "outputs": [
    {
     "name": "stdout",
     "output_type": "stream",
     "text": [
      "              int_income\n",
      "RespondentID  0.0           0.596154\n",
      "              10000.0       0.583333\n",
      "              25000.0       0.638554\n",
      "              50000.0       0.677165\n",
      "              75000.0       0.543307\n",
      "              100000.0      0.541284\n",
      "              125000.0      0.458333\n",
      "              150000.0      0.552632\n",
      "              175000.0      0.576923\n",
      "              200000.0      0.500000\n",
      "              All           0.581423\n",
      "Name: Thanksgiving is happening at my home--I won't travel at all, dtype: float64\n"
     ]
    }
   ],
   "source": [
    "pct_travel = (1 - pct_no_travel)\n",
    "print(pct_travel)"
   ]
  },
  {
   "cell_type": "markdown",
   "metadata": {
    "collapsed": true
   },
   "source": [
    "| Income  | Percent of Income Group who Travel  |\n",
    "|---------|-------------------------------------|\n",
    "|  \\$10,000   |       58%  |\n",
    "|  \\$25,000   |      64%  |\n",
    "|  \\$50,000   |      68%  |\n",
    "|  \\$75,000   |      54%  |\n",
    "|  \\$100,000  |      54%  |\n",
    "|  \\$125,000  |       46%  |\n",
    "|  \\$150,000  |       55%  |\n",
    "|  \\$175,000  |       58%  |\n",
    "|  \\$200,000  |       50%  |\n",
    "|  All        |       58%  |"
   ]
  },
  {
   "cell_type": "markdown",
   "metadata": {},
   "source": [
    "#### Without performing Statistical Analysis on the Data, it is hard to say if these numbers are significant.  \n",
    "* On average, 58% of people travelled during thanksgiving. \n",
    "* On average, the $10k, $25k, and $50k income grous travelled 58%, 64%, and 68% of the time respectively.  \n",
    "* All of these buckets were above average.  \n",
    "* Again - Can't yet tell if these numbers are significant. "
   ]
  },
  {
   "cell_type": "markdown",
   "metadata": {
    "collapsed": true
   },
   "source": [
    "## Calculate breakdown of travel for age group\n",
    "#### Let's look at the same question, but for age group.  "
   ]
  },
  {
   "cell_type": "code",
   "execution_count": 17,
   "metadata": {
    "collapsed": false
   },
   "outputs": [],
   "source": [
    "travel_by_age = pd.pivot_table(americans,\n",
    "                               values=[index_id],\n",
    "                               index=[travel_q], \n",
    "                               columns=[\"int_age\"],\n",
    "                               aggfunc=len,\n",
    "                               margins=True)\n",
    "\n",
    "\n"
   ]
  },
  {
   "cell_type": "code",
   "execution_count": 18,
   "metadata": {
    "collapsed": false
   },
   "outputs": [
    {
     "name": "stdout",
     "output_type": "stream",
     "text": [
      "                                                   RespondentID                \\\n",
      "int_age                                                    18.0   30.0   45.0   \n",
      "How far will you travel for Thanksgiving?                                       \n",
      "Thanksgiving is happening at my home--I won't t...         59.0   90.0  122.0   \n",
      "Thanksgiving is local--it will take place in th...         55.0   77.0   71.0   \n",
      "Thanksgiving is out of town and far away--I hav...         15.0   20.0   31.0   \n",
      "Thanksgiving is out of town but not too far--it...         56.0   48.0   45.0   \n",
      "All                                                       185.0  235.0  269.0   \n",
      "\n",
      "                                                                  \n",
      "int_age                                              60.0    All  \n",
      "How far will you travel for Thanksgiving?                         \n",
      "Thanksgiving is happening at my home--I won't t...  123.0  394.0  \n",
      "Thanksgiving is local--it will take place in th...   72.0  275.0  \n",
      "Thanksgiving is out of town and far away--I hav...   16.0   82.0  \n",
      "Thanksgiving is out of town but not too far--it...   47.0  196.0  \n",
      "All                                                 258.0  947.0  \n"
     ]
    }
   ],
   "source": [
    "print(travel_by_age)"
   ]
  },
  {
   "cell_type": "markdown",
   "metadata": {},
   "source": [
    "# Linking Friendship with Age and Income"
   ]
  },
  {
   "cell_type": "code",
   "execution_count": 19,
   "metadata": {
    "collapsed": false
   },
   "outputs": [
    {
     "name": "stdout",
     "output_type": "stream",
     "text": [
      "Have you ever attended a \"Friendsgiving?\"                  No        Yes\n",
      "Have you ever tried to meet up with hometown fr...                      \n",
      "No                                                  42.283702  37.010526\n",
      "Yes                                                 41.475410  33.976744\n"
     ]
    }
   ],
   "source": [
    "hometown_q = \"Have you ever tried to meet up with hometown friends on Thanksgiving night?\"\n",
    "friendsgiving_q = 'Have you ever attended a \"Friendsgiving?\"'\n",
    "\n",
    "friendship_age = americans.pivot_table(index=hometown_q, \n",
    "                                       columns=[friendsgiving_q], \n",
    "                                       values=\"int_age\")\n",
    "\n",
    "print(friendship_age)"
   ]
  },
  {
   "cell_type": "code",
   "execution_count": 20,
   "metadata": {
    "collapsed": false
   },
   "outputs": [
    {
     "name": "stdout",
     "output_type": "stream",
     "text": [
      "Have you ever attended a \"Friendsgiving?\"                     No           Yes\n",
      "Have you ever tried to meet up with hometown fr...                            \n",
      "No                                                  78914.549654  72894.736842\n",
      "Yes                                                 78750.000000  66019.736842\n"
     ]
    }
   ],
   "source": [
    "friendship_income = americans.pivot_table(index=hometown_q, \n",
    "                                          columns=[friendsgiving_q], \n",
    "                                          values=\"int_income\")\n",
    "print(friendship_income)"
   ]
  },
  {
   "cell_type": "markdown",
   "metadata": {
    "collapsed": true
   },
   "source": [
    "\n",
    "\n"
   ]
  }
 ],
 "metadata": {
  "anaconda-cloud": {},
  "kernelspec": {
   "display_name": "Python [default]",
   "language": "python",
   "name": "python3"
  },
  "language_info": {
   "codemirror_mode": {
    "name": "ipython",
    "version": 3
   },
   "file_extension": ".py",
   "mimetype": "text/x-python",
   "name": "python",
   "nbconvert_exporter": "python",
   "pygments_lexer": "ipython3",
   "version": "3.5.2"
  }
 },
 "nbformat": 4,
 "nbformat_minor": 0
}
